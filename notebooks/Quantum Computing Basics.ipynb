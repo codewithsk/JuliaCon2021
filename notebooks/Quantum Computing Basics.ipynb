{
 "cells": [
  {
   "cell_type": "markdown",
   "metadata": {},
   "source": [
    "# Introduction to Quantum Computing with Amazon Braket\n",
    "\n",
    "In this workshop, we hope to introduce you to the exciting field of quantum computing using Julia and AWS quantum computing service. We will cover:\n",
    "\n",
    "- Basic construction of quantum circuits (Bell pairs, superdense coding)\n",
    "- Hybrid quantum algorithms (QAOA)\n",
    "- Quantum machine learning\n",
    "\n",
    "This workshop can be completed *entirely* with the Amazon Braket local simulator, which is free to use. You *do not* need an AWS account to participate! If you would like to run circuits on Amazon Braket's managed simulators (SV1, DM1, and TN1) or use a real quantum device, you can sign up for an AWS account, for which you will need a credit card, and you may be charged depending on your usage."
   ]
  },
  {
   "cell_type": "markdown",
   "metadata": {},
   "source": [
    "## What is Amazon Braket?\n",
    "\n",
    "Amazon Braket is a fully managed quantum computing service that helps researchers and developers get started with the technology to accelerate research and discovery. Amazon Braket provides a development environment for you to explore and build quantum algorithms, test them on quantum circuit simulators, and run them on different quantum hardware technologies. You can read more about Amazon Braket [here](https://aws.amazon.com/braket/).\n",
    "\n",
    "Amazon Braket provides access to a variety of quantum circuit simulators and hardware providers.\n",
    "\n",
    "\n",
    "Some of these simulators (SV1, TN1, and DM1) are *managed devices* -- they run on AWS-managed infrastructure and software -- and one of them (the local simulator, which we'll use during this workshop) runs on your computer. In order to use the local simulator, you'll need to follow the [pre-workshop installation instructions](README.md)."
   ]
  },
  {
   "cell_type": "markdown",
   "metadata": {},
   "source": [
    "## Why not use Yao?\n",
    "\n",
    "Many of you are likely familiar with the wonderful [Yao.jl](https://github.com/QuantumBFS/Yao.jl) package. Our goal with this workshop is to give a very \"bottom up\" introduction to quantum computing. The syntax we'll use is different from that of Yao.jl and we will build up a training procedure for our QML approach directly using Flux, for example. If you like the Yao syntax best -- use Yao! If you want to use Yao's great set of templates for quantum algorithms -- please do! Our goal here is to show how some of these templates arise and how to build them ourselves. (In fact, the Yao dev team is [planning](https://github.com/QuantumBFS/AWSBraket.jl) to support Amazon Braket as a backend, so you may soon be able to use both.)"
   ]
  },
  {
   "cell_type": "markdown",
   "metadata": {},
   "source": [
    "### Preliminaries: Package Imports"
   ]
  },
  {
   "cell_type": "code",
   "execution_count": 1,
   "metadata": {},
   "outputs": [
    {
     "name": "stderr",
     "output_type": "stream",
     "text": [
      "\u001b[32m\u001b[1m    Updating\u001b[22m\u001b[39m registry at `~/.julia/registries/General`\n",
      "\u001b[32m\u001b[1m    Updating\u001b[22m\u001b[39m git-repo `https://github.com/JuliaRegistries/General.git`\n",
      "\u001b[32m\u001b[1m   Resolving\u001b[22m\u001b[39m package versions...\n",
      "\u001b[32m\u001b[1m  No Changes\u001b[22m\u001b[39m to `~/.julia/environments/v1.6/Project.toml`\n",
      "\u001b[32m\u001b[1m  No Changes\u001b[22m\u001b[39m to `~/.julia/environments/v1.6/Manifest.toml`\n",
      "\u001b[32m\u001b[1m    Building\u001b[22m\u001b[39m Conda ─→ `~/.julia/scratchspaces/44cfe95a-1eb2-52ea-b672-e2afdf69b78f/299304989a5e6473d985212c28928899c74e9421/build.log`\n",
      "\u001b[32m\u001b[1m    Building\u001b[22m\u001b[39m PyCall → `~/.julia/scratchspaces/44cfe95a-1eb2-52ea-b672-e2afdf69b78f/169bb8ea6b1b143c5cf57df6d34d022a7b60c6db/build.log`\n",
      "\u001b[32m\u001b[1m   Resolving\u001b[22m\u001b[39m package versions...\n",
      "\u001b[32m\u001b[1m  No Changes\u001b[22m\u001b[39m to `~/.julia/environments/v1.6/Project.toml`\n",
      "\u001b[32m\u001b[1m  No Changes\u001b[22m\u001b[39m to `~/.julia/environments/v1.6/Manifest.toml`\n"
     ]
    }
   ],
   "source": [
    "using Pkg\n",
    "Pkg.add(\"PyCall\")\n",
    "Pkg.build(\"PyCall\")\n",
    "Pkg.add(\"AWS\")\n",
    "using PyCall"
   ]
  },
  {
   "cell_type": "code",
   "execution_count": 2,
   "metadata": {},
   "outputs": [
    {
     "data": {
      "text/plain": [
       "PyObject <PyIO object at 0x16720fe80>"
      ]
     },
     "execution_count": 2,
     "metadata": {},
     "output_type": "execute_result"
    }
   ],
   "source": [
    "# Braket imports\n",
    "awsbraket = pyimport(\"braket.aws\");\n",
    "devices   = pyimport(\"braket.devices\");\n",
    "circuit   = pyimport(\"braket.circuits\");\n",
    "\n",
    "# we're going to hijack Python's printing\n",
    "pyimport(\"sys\").\"stdout\" = PyTextIO(stdout)\n",
    "pyimport(\"sys\").\"stderr\" = PyTextIO(stderr)"
   ]
  },
  {
   "cell_type": "markdown",
   "metadata": {},
   "source": [
    "## Choosing a device\n",
    "\n",
    "Throughout this tutorial we will be using the Amazon Braket local simulator. This runs entirely on a device of your choosing -- your laptop, your desktop, a Jupyter notebook running in the cloud, or an EC2 instance -- and is completely free. You will not need an AWS account to use the local simulator. It is a \"state vector\" simulator, which means that the amount of memory it needs scales exponentially in the number of qubits. This is because a state vector simulator stores a full representation of the quantum state in memory. For this reason, we're only going to run relatively small circuits (<=18 qubits). This has the happy side effect of allowing our simulations to finish quickly. If you want to run simulations with more qubits, one option is to use the managed simulators available on AWS. To do so, you'll need to create an AWS account and onboard with Braket. You can read more about Amazon Braket's various simulators and QPUs [here](https://docs.aws.amazon.com/braket/). Note that when you onboard to Braket you'll receive a free hour of simulator time per month for the first 12 months."
   ]
  },
  {
   "cell_type": "code",
   "execution_count": 3,
   "metadata": {},
   "outputs": [
    {
     "data": {
      "text/plain": [
       "PyObject <braket.devices.local_simulator.LocalSimulator object at 0x166f4ee80>"
      ]
     },
     "execution_count": 3,
     "metadata": {},
     "output_type": "execute_result"
    }
   ],
   "source": [
    "device = devices.LocalSimulator()"
   ]
  },
  {
   "cell_type": "markdown",
   "metadata": {},
   "source": [
    "## Simple circuits: building them and making measurements\n",
    "\n",
    "First, we'll build a simple [Bell pair](https://en.wikipedia.org/wiki/Bell_state) and make measurements on it. This circuit maximally entangles two qubits using two gates: the [Hadamard](https://en.wikipedia.org/wiki/Hadamard_transform#Quantum_computing_applications) and controlled-NOT. The Hadamard puts the first qubit into a superposition of $|0\\rangle$ and $|1\\rangle$ states, and the `CNOT` (equivalent to `CX`) gate flips the second qubit if and only if the first one is in the $|1\\rangle$ state.\n",
    "\n",
    "**Note**: Because the Braket SDK is written in Python, the first qubit is qubit 0! "
   ]
  },
  {
   "cell_type": "code",
   "execution_count": 4,
   "metadata": {},
   "outputs": [
    {
     "name": "stdout",
     "output_type": "stream",
     "text": [
      "(task.result()).measurement_counts = Dict{Any, Any}(\"00\" => 49, \"11\" => 51)\n"
     ]
    },
    {
     "data": {
      "text/plain": [
       "Dict{Any, Any} with 2 entries:\n",
       "  \"00\" => 49\n",
       "  \"11\" => 51"
      ]
     },
     "execution_count": 4,
     "metadata": {},
     "output_type": "execute_result"
    }
   ],
   "source": [
    "bell = circuit.Circuit().h(0).cnot(0, 1)\n",
    "task = device.run(bell, shots=100)\n",
    "@show task.result().measurement_counts"
   ]
  },
  {
   "cell_type": "code",
   "execution_count": 5,
   "metadata": {},
   "outputs": [
    {
     "name": "stdout",
     "output_type": "stream",
     "text": [
      "T  : |0|1|\n",
      "          \n",
      "q0 : -H-C-\n",
      "        | \n",
      "q1 : ---X-\n",
      "\n",
      "T  : |0|1|\n"
     ]
    }
   ],
   "source": [
    "py\"print\"(bell)"
   ]
  },
  {
   "cell_type": "markdown",
   "metadata": {},
   "source": [
    "We can also use the Braket SDK to make measurements. The SDK supports two types of measurements: `shots=0` (exact) and `shots > 0` (sampling). When we make a sampling measurement with `n` shots, we simulate the results of running the circuit `n` times on a real quantum device. When we make an \"exact\" measurement, we simulate what the result should converge to after $n \\to \\inf$. Thus, `measurement_counts` is only supported for `shots>0` computations. But we can ask the simulator to compute `expectation`s (the mean value of measuring an observable $\\hat{O}$) and `variance`s in both `shots=0` and `shots>0` computations."
   ]
  },
  {
   "cell_type": "markdown",
   "metadata": {},
   "source": [
    "In the example below, we'll compute the expectation value of the `X` gate on both qubits. Note that we'll perform a `shots>0` measurement, so what the simulator will actually do is compute 100 output states and then generate an expectation value from those results."
   ]
  },
  {
   "cell_type": "code",
   "execution_count": 6,
   "metadata": {},
   "outputs": [
    {
     "name": "stdout",
     "output_type": "stream",
     "text": [
      "(task.result()).values[1] = 1.0\n"
     ]
    },
    {
     "data": {
      "text/plain": [
       "1.0"
      ]
     },
     "execution_count": 6,
     "metadata": {},
     "output_type": "execute_result"
    }
   ],
   "source": [
    "x = circuit.Observable.X()\n",
    "bell.expectation(py\"$x @ $x\", target=[0,1])\n",
    "task = device.run(bell, shots=100)\n",
    "@show task.result().values[1]"
   ]
  },
  {
   "cell_type": "markdown",
   "metadata": {},
   "source": [
    "Similarly, we can compute the expectation value for `shots=0` and see that (up to floating point noise) the results match. This is expected for such a small circuit, but for larger and more complex circuits the two may not be equal. Generally as the number of shots increases we expect expectation values to approach their exact (`shots=0`) values."
   ]
  },
  {
   "cell_type": "code",
   "execution_count": 7,
   "metadata": {},
   "outputs": [
    {
     "name": "stdout",
     "output_type": "stream",
     "text": [
      "(task.result()).values[1] = 0.9999999999999996\n"
     ]
    },
    {
     "data": {
      "text/plain": [
       "0.9999999999999996"
      ]
     },
     "execution_count": 7,
     "metadata": {},
     "output_type": "execute_result"
    }
   ],
   "source": [
    "x = circuit.Observable.X()\n",
    "bell.expectation(py\"$x @ $x\", target=[0,1])\n",
    "task = device.run(bell, shots=0)\n",
    "@show task.result().values[1]"
   ]
  },
  {
   "cell_type": "markdown",
   "metadata": {},
   "source": [
    "We can also compute variances:"
   ]
  },
  {
   "cell_type": "code",
   "execution_count": 8,
   "metadata": {},
   "outputs": [
    {
     "name": "stdout",
     "output_type": "stream",
     "text": [
      "(task.result()).values[1] = 0.0\n",
      "(task.result()).values[2] = 0.9999999999999998\n"
     ]
    },
    {
     "data": {
      "text/plain": [
       "0.9999999999999998"
      ]
     },
     "execution_count": 8,
     "metadata": {},
     "output_type": "execute_result"
    }
   ],
   "source": [
    "bell = circuit.Circuit().h(0).cnot(0, 1)\n",
    "z = circuit.Observable.Z()\n",
    "bell.expectation(z, target=[0])\n",
    "bell.variance(z, target=[0])\n",
    "task = device.run(bell, shots=0)\n",
    "@show task.result().values[1]\n",
    "@show task.result().values[2]"
   ]
  },
  {
   "cell_type": "markdown",
   "metadata": {},
   "source": [
    "We can also measure *amplitudes* with the Braket SDK. After applying the circuit, we end up with $ \\hat{C}|0...0\\rangle = |\\psi\\rangle$. The *amplitude* measures $\\langle c | \\psi \\rangle$ for some bitstring $c$. The square of the amplitude is the probability of observing state $|c\\rangle$ when we make a final measurement."
   ]
  },
  {
   "cell_type": "code",
   "execution_count": 9,
   "metadata": {},
   "outputs": [
    {
     "name": "stdout",
     "output_type": "stream",
     "text": [
      "(task.result()).values[1] = Dict{Any, Any}(\"00\" => 0.7071067811865475 + 0.0im, \"10\" => 0.0 + 0.0im, \"11\" => 0.7071067811865475 + 0.0im, \"01\" => 0.0 + 0.0im)\n"
     ]
    },
    {
     "data": {
      "text/plain": [
       "Dict{Any, Any} with 4 entries:\n",
       "  \"00\" => 0.707107+0.0im\n",
       "  \"10\" => 0.0+0.0im\n",
       "  \"11\" => 0.707107+0.0im\n",
       "  \"01\" => 0.0+0.0im"
      ]
     },
     "execution_count": 9,
     "metadata": {},
     "output_type": "execute_result"
    }
   ],
   "source": [
    "bell = circuit.Circuit().h(0).cnot(0, 1)\n",
    "bell.amplitude(state=[\"00\", \"01\", \"10\", \"11\"])\n",
    "task = device.run(bell, shots=0)\n",
    "@show task.result().values[1]"
   ]
  },
  {
   "cell_type": "markdown",
   "metadata": {},
   "source": [
    "### Suggestions for further exploration\n",
    "\n",
    "- Try modifying our Bell circuit with different gates. What happens if you replace `CNOT` with `CY`? Does it change the expectation values? What about the amplitude(s)?\n",
    "- Can you think of a way to extend this procedure of constructing states which have two possible measurement outcomes -- all `0` or all `1` -- to more qubits? (These states are called \"cat states\".) If you get stuck, try searching online for \"GHZ\" circuits."
   ]
  },
  {
   "cell_type": "markdown",
   "metadata": {},
   "source": [
    "## Superdense Coding\n",
    "\n",
    "Quantum computers can encode information in fewer bits than are necessary classically for the purpose of sending messages. This is called \"superdense coding\" and we'll demonstrate how it works below. We go through this example to show a (simple) demonstration of how we can use quantum circuits to accomplish real tasks."
   ]
  },
  {
   "cell_type": "code",
   "execution_count": 10,
   "metadata": {},
   "outputs": [],
   "source": [
    "circ = circuit.Circuit()\n",
    "circ.h([0])\n",
    "circ.cnot(0,1);"
   ]
  },
  {
   "cell_type": "markdown",
   "metadata": {},
   "source": [
    "Now, by applying gates on only the first qubit (Alice's), we can pass a message to Bob."
   ]
  },
  {
   "cell_type": "code",
   "execution_count": 11,
   "metadata": {},
   "outputs": [
    {
     "data": {
      "text/plain": [
       "Dict{String, PyObject} with 4 entries:\n",
       "  \"00\" => PyObject Circuit('instructions': [Instruction('operator': I('qubit_co…\n",
       "  \"10\" => PyObject Circuit('instructions': [Instruction('operator': Z('qubit_co…\n",
       "  \"11\" => PyObject Circuit('instructions': [Instruction('operator': X('qubit_co…\n",
       "  \"01\" => PyObject Circuit('instructions': [Instruction('operator': X('qubit_co…"
      ]
     },
     "execution_count": 11,
     "metadata": {},
     "output_type": "execute_result"
    }
   ],
   "source": [
    "message = Dict(\"00\"=>circuit.Circuit().i(0),\n",
    "               \"01\"=>circuit.Circuit().x(0),\n",
    "               \"10\"=>circuit.Circuit().z(0),\n",
    "               \"11\"=>circuit.Circuit().x(0).z(0)\n",
    "          )"
   ]
  },
  {
   "cell_type": "code",
   "execution_count": 12,
   "metadata": {},
   "outputs": [
    {
     "name": "stdout",
     "output_type": "stream",
     "text": [
      "PyObject Circuit('instructions': [Instruction('operator': H('qubit_count': 1), 'target': QubitSet([Qubit(0)])), Instruction('operator': CNot('qubit_count': 2), 'target': QubitSet([Qubit(0), Qubit(1)])), Instruction('operator': X('qubit_count': 1), 'target': QubitSet([Qubit(0)])), Instruction('operator': Z('qubit_count': 1), 'target': QubitSet([Qubit(0)])), Instruction('operator': CNot('qubit_count': 2), 'target': QubitSet([Qubit(0), Qubit(1)])), Instruction('operator': H('qubit_count': 1), 'target': QubitSet([Qubit(0)]))])"
     ]
    }
   ],
   "source": [
    "# Let's add a message\n",
    "our_message = \"11\"\n",
    "circ.add_circuit(message[our_message])\n",
    "# now Bob disentangles the qubits to read the message\n",
    "circ.cnot(0,1)\n",
    "circ.h([0])\n",
    "print(circ)"
   ]
  },
  {
   "cell_type": "code",
   "execution_count": 13,
   "metadata": {},
   "outputs": [
    {
     "data": {
      "text/plain": [
       "Dict{Any, Any} with 1 entry:\n",
       "  \"11\" => 1000"
      ]
     },
     "execution_count": 13,
     "metadata": {},
     "output_type": "execute_result"
    }
   ],
   "source": [
    "task = device.run(circ, shots=1000)\n",
    "task.result().measurement_counts"
   ]
  },
  {
   "cell_type": "markdown",
   "metadata": {},
   "source": [
    "## Dense random circuits\n",
    "\n",
    "Now let's do something a little more sophisticated a build a dense circuit using layers of random gates. These circuits can be used in testing \"quantum advantage\". We'll also see how to apply angled gates and visualize a more interesting circuit."
   ]
  },
  {
   "cell_type": "code",
   "execution_count": 14,
   "metadata": {},
   "outputs": [
    {
     "data": {
      "text/plain": [
       "generate_random_circ (generic function with 1 method)"
      ]
     },
     "execution_count": 14,
     "metadata": {},
     "output_type": "execute_result"
    }
   ],
   "source": [
    "using Random\n",
    "Random.seed!(42)\n",
    "\n",
    "function generate_random_circ(n_qubits::Int, depth::Int)\n",
    "    function random_single_qubit_layer()\n",
    "        return [circuit.Instruction(rand([circuit.Gate.Rx(rand()), circuit.Gate.Ry(rand()), circuit.Gate.Rz(rand())]), i)\n",
    "                for i in 0:n_qubits-1]\n",
    "    end\n",
    "    function even_two_qubit_layer()\n",
    "        return [circuit.Instruction(circuit.Gate.CNot(), [i, i+1]) for i in 1:2:n_qubits-2]\n",
    "    end\n",
    "    function odd_two_qubit_layer()\n",
    "        return [circuit.Instruction(circuit.Gate.CNot(), [i, i+1]) for i in 0:2:n_qubits-1]\n",
    "    end\n",
    "\n",
    "    layer_fxns = [random_single_qubit_layer, even_two_qubit_layer, random_single_qubit_layer, odd_two_qubit_layer]\n",
    "    circ = circuit.Circuit()\n",
    "    for (layer, layer_fx) in zip(1:depth, Iterators.cycle(layer_fxns))\n",
    "        for gate in layer_fx()\n",
    "            circ.add_instruction(gate)\n",
    "        end\n",
    "    end\n",
    "    return circ\n",
    "end"
   ]
  },
  {
   "cell_type": "markdown",
   "metadata": {},
   "source": [
    "We can now generate and visualize a variety of these circuits. "
   ]
  },
  {
   "cell_type": "code",
   "execution_count": 15,
   "metadata": {
    "scrolled": false
   },
   "outputs": [
    {
     "name": "stdout",
     "output_type": "stream",
     "text": [
      "(n_qubits, n_layers) = (4, 5)\n",
      "T  : |    0    |    1    |    2    |3|     4     |\n",
      "                                                  \n",
      "q0 : -Rx(0.533)-Ry(0.602)-----------C-Rx(0.969)---\n",
      "                                    |             \n",
      "q1 : -Rz(0.974)-C---------Rz(0.745)-X-Ry(0.764)---\n",
      "                |                                 \n",
      "q2 : -Rx(0.304)-X---------Ry(0.503)-C-Ry(0.00481)-\n",
      "                                    |             \n",
      "q3 : -Ry(0.937)-Rz(0.497)-----------X-Rx(0.115)---\n",
      "\n",
      "T  : |    0    |    1    |    2    |3|     4     |\n",
      "\n",
      "Additional result types: Amplitude(1111,0000,1011,0111,0011,1010,1000,0101,1100,0000)\n",
      "Dict{Any, Any}(\"0101\" => 0.0373088264619158 - 0.08145458721127508im, \"1000\" => -0.2664898091262317 - 0.07872637584485723im, \"1011\" => -0.07985411363084562 + 0.02351518193335491im, \"0011\" => 0.009350845627065448 - 0.20927099553439213im, \"0000\" => 0.40531591982402193 - 0.5698059849929892im, \"1010\" => -0.03976243330050812 - 0.0051991599159302935im, \"1100\" => -0.18304049853291657 - 0.33661422676120173im, \"0111\" => -0.030151556353112237 - 0.047850229052722765im, \"1111\" => -0.10078242878128015 - 0.054942306314034885im)\n",
      "(n_qubits, n_layers) = (4, 10)\n",
      "T  : |    0    |    1    |    2    |3|    4     |    5    |    6    |7|    8    |9|\n",
      "                                                                                   \n",
      "q0 : -Ry(0.142)-Ry(0.461)-----------C-Ry(0.456)--Rx(0.697)-----------C-Ry(0.611)---\n",
      "                                    |                                |             \n",
      "q1 : -Ry(0.264)-C---------Rz(0.229)-X-Rz(0.0105)-C---------Ry(0.22)--X-Rz(0.243)-C-\n",
      "                |                                |                               | \n",
      "q2 : -Rx(0.81)--X---------Rx(0.896)-C-Ry(0.116)--X---------Rx(0.321)-C-Rz(0.765)-X-\n",
      "                                    |                                |             \n",
      "q3 : -Ry(0.909)-Rz(0.586)-----------X-Rz(0.41)---Rx(0.661)-----------X-Ry(0.866)---\n",
      "\n",
      "T  : |    0    |    1    |    2    |3|    4     |    5    |    6    |7|    8    |9|\n",
      "\n",
      "Additional result types: Amplitude(1010,1000,0010,0101,0100,0101,1000,1010,1101,1011)\n",
      "Dict{Any, Any}(\"1000\" => -0.020583052765745718 - 0.13928458724283316im, \"0100\" => 0.060356452256176654 + 0.018038978941668497im, \"1101\" => -0.21804946406041179 - 0.18789696367215114im, \"1011\" => 0.01706209338515895 - 0.22694934772306594im, \"1010\" => -0.0645409708702986 - 0.09943282999962667im, \"0010\" => -0.008128316976892843 - 0.3757307270754235im, \"0101\" => 0.017858148824252004 - 0.1574534774311976im)\n",
      "(n_qubits, n_layers) = (4, 15)\n",
      "T  : |    0    |    1    |    2    |3|    4     |    5    |    6    |7|    8    |    9    |   10    |11|   12    |   13    |   14    |\n",
      "                                                                                                                                      \n",
      "q0 : -Rz(0.194)-Rz(0.463)-----------C-Rz(0.505)--Rx(0.426)-----------C-Rx(0.464)-Rz(0.411)-----------C--Rx(0.525)-Ry(0.71)------------\n",
      "                                    |                                |                               |                                \n",
      "q1 : -Ry(0.153)-C---------Rz(0.226)-X-Rx(0.421)--C---------Ry(0.329)-X-Rz(0.481)-C---------Rx(0.723)-X--Ry(0.893)-C---------Ry(0.252)-\n",
      "                |                                |                               |                                |                   \n",
      "q2 : -Ry(0.555)-X---------Rz(0.86)--C-Rx(0.0326)-X---------Rz(0.929)-C-Rx(0.736)-X---------Rz(0.139)-C--Rx(0.521)-X---------Rx(0.676)-\n",
      "                                    |                                |                               |                                \n",
      "q3 : -Rz(0.242)-Rz(0.607)-----------X-Ry(0.595)--Ry(0.328)-----------X-Ry(0.29)--Rx(0.412)-----------X--Rz(0.678)-Ry(0.491)-----------\n",
      "\n",
      "T  : |    0    |    1    |    2    |3|    4     |    5    |    6    |7|    8    |    9    |   10    |11|   12    |   13    |   14    |\n",
      "\n",
      "Additional result types: Amplitude(1010,1000,1110,1001,1011,0001,0001,1011,1100,1101)\n",
      "Dict{Any, Any}(\"0001\" => -0.15542173828374903 - 0.24658293384282598im, \"1000\" => -0.06530853490854598 + 0.011048524120545083im, \"1001\" => -0.134329185043445 + 0.09268022456927828im, \"1110\" => 0.03471180859649021 + 0.18342583971974472im, \"1011\" => -0.04337897542626795 + 0.05110503553302407im, \"1101\" => 0.10112729350492809 + 0.21479887701770478im, \"1010\" => -0.010935286522913623 + 0.12465960046710484im, \"1100\" => 0.18538383850937443 + 0.13952088560150916im)\n",
      "(n_qubits, n_layers) = (4, 20)\n",
      "T  : |    0    |    1    |    2    |3|    4    |    5    |    6    |7|    8    |    9    |   10    |11|    12    |   13    |   14    |15|   16    |   17    |   18    |19|\n",
      "                                                                                                                                                                          \n",
      "q0 : -Rx(0.949)-Rx(0.877)-----------C-Rx(0.341)-Rx(0.932)-----------C-Rz(0.503)-Rx(0.606)-----------C--Ry(0.0518)-Rx(0.986)-----------C--Ry(0.759)-Ry(0.855)-----------C--\n",
      "                                    |                               |                               |                                 |                                |  \n",
      "q1 : -Ry(0.668)-C---------Rz(0.511)-X-Ry(0.367)-C---------Rz(0.178)-X-Ry(0.756)-C---------Rz(0.82)--X--Rz(0.378)--C---------Ry(0.921)-X--Rx(0.38)--C---------Rx(0.319)-X--\n",
      "                |                               |                               |                                 |                                |                      \n",
      "q2 : -Rx(0.556)-X---------Ry(0.823)-C-Rz(0.366)-X---------Rx(0.121)-C-Rx(0.36)--X---------Rx(0.623)-C--Rz(0.699)--X---------Rx(0.714)-C--Rz(0.358)-X---------Ry(0.462)-C--\n",
      "                                    |                               |                               |                                 |                                |  \n",
      "q3 : -Ry(0.527)-Rz(0.312)-----------X-Rx(0.607)-Rx(0.513)-----------X-Rz(0.988)-Rz(0.14)------------X--Ry(0.0214)-Ry(0.523)-----------X--Rz(0.591)-Rz(0.847)-----------X--\n",
      "\n",
      "T  : |    0    |    1    |    2    |3|    4    |    5    |    6    |7|    8    |    9    |   10    |11|    12    |   13    |   14    |15|   16    |   17    |   18    |19|\n",
      "\n",
      "Additional result types: Amplitude(1001,0110,1000,1100,1101,1000,1001,0011,1110,0101)\n",
      "Dict{Any, Any}(\"1000\" => -0.130933720783445 + 0.1950749553038293im, \"1001\" => -0.006720030942244732 + 0.09353653360246261im, \"1101\" => -0.2540132887036574 - 0.0012752954258925392im, \"1110\" => -0.131118079915982 - 0.06817096188116543im, \"0110\" => -0.08190279513334627 + 0.21812396091476677im, \"0011\" => 0.11792404141738502 + 0.03421232793778052im, \"1100\" => 0.08268100633428663 - 0.19095636600255225im, \"0101\" => -0.17573326678685156 + 0.018224976719104183im)\n",
      "(n_qubits, n_layers) = (8, 5)\n",
      "T  : |    0     |    1    |    2     |3|    4    |\n",
      "                                                  \n",
      "q0 : -Rx(0.252)--Rx(0.248)------------C-Rz(0.834)-\n",
      "                                      |           \n",
      "q1 : -Rz(0.254)--C---------Rz(0.0221)-X-Rx(0.678)-\n",
      "                 |                                \n",
      "q2 : -Ry(0.0221)-X---------Rz(0.0667)-C-Rx(0.77)--\n",
      "                                      |           \n",
      "q3 : -Rz(0.725)--C---------Ry(0.102)--X-Rx(0.905)-\n",
      "                 |                                \n",
      "q4 : -Rz(0.219)--X---------Rx(0.168)--C-Ry(0.803)-\n",
      "                                      |           \n",
      "q5 : -Ry(0.758)--C---------Ry(0.917)--X-Rz(0.477)-\n",
      "                 |                                \n",
      "q6 : -Rx(0.847)--X---------Ry(0.471)--C-Rx(0.914)-\n",
      "                                      |           \n",
      "q7 : -Rx(0.831)--Ry(0.63)-------------X-Rx(0.952)-\n",
      "\n",
      "T  : |    0     |    1    |    2     |3|    4    |\n",
      "\n",
      "Additional result types: Amplitude(10010110,10011010,10011000,00100000,11101000,01101011,11000010,11111110,10001110,00000000)\n",
      "Dict{Any, Any}(\"00100000\" => -0.08967448119812332 - 0.0714496558543525im, \"11101000\" => -0.012100466657126304 + 0.0006776069086739851im, \"11000010\" => -0.03651365498287018 + 0.050952013548629986im, \"10011010\" => 0.002596009745732421 - 0.004437539961358345im, \"11111110\" => 0.0051138190209661346 - 0.0010022641740097885im, \"10001110\" => 0.003151491841685397 + 0.009281412106933729im, \"10010110\" => 0.012147597824661304 + 0.00016790707349469765im, \"10011000\" => -0.000361758869016511 + 0.005116129857186806im, \"01101011\" => 0.016803139376113815 - 0.006561372166249843im, \"00000000\" => 0.17296567421121112 - 0.21841979703374295im)\n",
      "(n_qubits, n_layers) = (8, 10)\n",
      "T  : |    0     |    1    |     2     |3|    4     |    5    |    6     |7|    8    |9|\n",
      "                                                                                       \n",
      "q0 : -Rz(0.206)--Rz(0.532)-------------C-Ry(0.482)--Ry(0.389)------------C-Ry(0.457)---\n",
      "                                       |                                 |             \n",
      "q1 : -Ry(0.911)--C---------Rz(0.961)---X-Rx(0.0391)-C---------Rx(0.214)--X-Rx(0.586)-C-\n",
      "                 |                                  |                                | \n",
      "q2 : -Rx(0.977)--X---------Rx(0.189)---C-Rz(0.44)---X---------Ry(0.0475)-C-Rx(0.319)-X-\n",
      "                                       |                                 |             \n",
      "q3 : -Rx(0.0904)-C---------Rz(0.396)---X-Ry(0.222)--C---------Rx(0.501)--X-Ry(0.26)--C-\n",
      "                 |                                  |                                | \n",
      "q4 : -Rx(0.557)--X---------Ry(0.738)---C-Ry(0.53)---X---------Rz(0.68)---C-Rz(0.448)-X-\n",
      "                                       |                                 |             \n",
      "q5 : -Ry(0.833)--C---------Rx(0.0158)--X-Rz(0.0287)-C---------Ry(0.873)--X-Rz(0.546)-C-\n",
      "                 |                                  |                                | \n",
      "q6 : -Rz(0.175)--X---------Rz(0.00955)-C-Rx(0.355)--X---------Rz(0.901)--C-Rz(0.968)-X-\n",
      "                                       |                                 |             \n",
      "q7 : -Rx(0.858)--Rz(0.591)-------------X-Ry(0.117)--Ry(0.949)------------X-Rz(0.716)---\n",
      "\n",
      "T  : |    0     |    1    |     2     |3|    4     |    5    |    6     |7|    8    |9|\n",
      "\n",
      "Additional result types: Amplitude(11001111,10110100,11101000,10111101,11110100,10101011,10011101,11010110,00101100,00100111)\n",
      "Dict{Any, Any}(\"11101000\" => -0.0076740513022798724 + 0.01605022012614101im, \"10110100\" => -0.0009728895311917554 - 0.0011191470863346187im, \"00100111\" => -0.04653693852866663 + 0.0639153436484202im, \"11110100\" => -0.0029727053403723557 - 0.009247950931556647im, \"10011101\" => 0.028830651328852826 - 0.0014858260402778063im, \"10111101\" => -0.006497245594206245 + 0.0057899241185877595im, \"10101011\" => -0.009515449243336598 + 0.00669165720249972im, \"11001111\" => -0.07509445395125249 + 0.0011794335400724006im, \"00101100\" => -0.028634742052954913 + 0.005665785209427411im, \"11010110\" => -0.03107540436613926 + 0.01921979984595254im)\n",
      "(n_qubits, n_layers) = (8, 15)\n",
      "T  : |    0    |    1    |     2     |3|    4     |    5    |    6    |7|    8    |     9     |    10    |11|    12    |   13    |    14    |\n",
      "                                                                                                                                             \n",
      "q0 : -Rz(0.937)-Ry(0.873)-------------C-Ry(0.323)--Rx(0.571)-----------C-Rz(0.485)-Rz(0.00423)------------C--Ry(0.987)--Rx(0.637)------------\n",
      "                                      |                                |                                  |                                  \n",
      "q1 : -Rx(0.537)-C---------Rx(0.868)---X-Ry(0.602)--C---------Ry(0.619)-X-Ry(0.734)-C-----------Ry(0.826)--X--Rz(0.0373)-C---------Rz(0.996)--\n",
      "                |                                  |                               |                                    |                    \n",
      "q2 : -Ry(0.387)-X---------Ry(0.545)---C-Rz(0.582)--X---------Rz(0.225)-C-Ry(0.429)-X-----------Rx(0.418)--C--Rz(0.0218)-X---------Rz(0.0745)-\n",
      "                                      |                                |                                  |                                  \n",
      "q3 : -Rx(0.484)-C---------Rx(0.306)---X-Ry(0.0499)-C---------Rx(0.71)--X-Rz(0.162)-C-----------Rx(0.0636)-X--Ry(0.311)--C---------Rx(0.16)---\n",
      "                |                                  |                               |                                    |                    \n",
      "q4 : -Rz(0.712)-X---------Rz(0.382)---C-Ry(0.0792)-X---------Rz(0.11)--C-Ry(0.27)--X-----------Rx(0.0499)-C--Rx(0.279)--X---------Rz(0.838)--\n",
      "                                      |                                |                                  |                                  \n",
      "q5 : -Rx(0.562)-C---------Ry(0.00749)-X-Ry(0.678)--C---------Rz(0.762)-X-Ry(0.46)--C-----------Ry(0.0796)-X--Rx(0.474)--C---------Rx(0.177)--\n",
      "                |                                  |                               |                                    |                    \n",
      "q6 : -Ry(0.531)-X---------Ry(0.734)---C-Rz(0.161)--X---------Rx(0.848)-C-Rz(0.247)-X-----------Ry(0.198)--C--Rx(0.508)--X---------Rx(0.925)--\n",
      "                                      |                                |                                  |                                  \n",
      "q7 : -Rx(0.927)-Ry(0.498)-------------X-Rz(0.982)--Ry(0.5)-------------X-Ry(0.925)-Rz(0.23)---------------X--Ry(0.775)--Rz(0.914)------------\n",
      "\n",
      "T  : |    0    |    1    |     2     |3|    4     |    5    |    6    |7|    8    |     9     |    10    |11|    12    |   13    |    14    |\n",
      "\n",
      "Additional result types: Amplitude(10110100,00011010,11101000,01111001,00110111,10111101,11000100,00000010,00101111,01000100)\n",
      "Dict{Any, Any}(\"11101000\" => 0.0037304621458922665 - 0.014822862769104998im, \"10110100\" => 0.023631118663653812 - 0.012118441561274427im, \"00011010\" => -0.016057840013843697 + 0.06742681406361208im, \"01000100\" => -0.09846287085499504 + 0.13950337445837102im, \"01111001\" => -0.01135968955114512 - 0.027135411410210454im, \"00110111\" => -0.03495450737282919 + 0.03319315103502591im, \"10111101\" => -0.029707368018638613 + 0.08216219749897326im, \"11000100\" => -0.06442471917696607 + 0.11796866180038329im, \"00101111\" => 0.08145938787425161 - 0.023136044876984434im, \"00000010\" => 0.038269029756280784 + 0.1129581076462736im)\n",
      "(n_qubits, n_layers) = (8, 20)\n",
      "T  : |    0     |    1    |    2     |3|    4    |    5    |    6     |7|    8    |    9    |    10    |11|    12     |   13    |   14    |15|   16    |   17    |   18    |19|\n",
      "                                                                                                                                                                               \n",
      "q0 : -Rx(0.0379)-Rz(0.252)------------C-Ry(0.33)--Ry(0.991)------------C-Rz(0.538)-Rz(0.147)------------C--Rx(0.00672)-Rz(0.603)-----------C--Rx(0.386)-Ry(0.286)-----------C--\n",
      "                                      |                                |                                |                                  |                                |  \n",
      "q1 : -Rx(0.683)--C---------Ry(0.134)--X-Rz(0.617)-C---------Rz(0.729)--X-Rx(0.825)-C---------Ry(0.118)--X--Rz(0.633)---C---------Ry(0.339)-X--Rx(0.815)-C---------Rz(0.571)-X--\n",
      "                 |                                |                                |                                   |                                |                      \n",
      "q2 : -Rz(0.331)--X---------Ry(0.702)--C-Rx(0.148)-X---------Rz(0.0166)-C-Rz(0.889)-X---------Rz(0.484)--C--Rx(0.982)---X---------Ry(0.374)-C--Rx(0.155)-X---------Rx(0.441)-C--\n",
      "                                      |                                |                                |                                  |                                |  \n",
      "q3 : -Rx(0.0313)-C---------Rz(0.0616)-X-Rx(0.14)--C---------Rx(0.262)--X-Ry(0.357)-C---------Rx(0.729)--X--Rz(0.163)---C---------Rz(0.11)--X--Rz(0.138)-C---------Rz(0.712)-X--\n",
      "                 |                                |                                |                                   |                                |                      \n",
      "q4 : -Rz(0.0791)-X---------Rz(0.562)--C-Rx(0.533)-X---------Rx(0.714)--C-Rx(0.975)-X---------Ry(0.0297)-C--Rx(0.864)---X---------Rz(0.365)-C--Rx(0.817)-X---------Rx(0.323)-C--\n",
      "                                      |                                |                                |                                  |                                |  \n",
      "q5 : -Rx(0.984)--C---------Ry(0.798)--X-Rx(0.415)-C---------Rx(0.957)--X-Rx(0.262)-C---------Rz(0.249)--X--Rx(0.419)---C---------Rx(0.72)--X--Rz(0.159)-C---------Rz(0.543)-X--\n",
      "                 |                                |                                |                                   |                                |                      \n",
      "q6 : -Ry(0.85)---X---------Rx(0.449)--C-Rz(0.68)--X---------Ry(0.719)--C-Rx(0.411)-X---------Rz(0.0692)-C--Rx(0.342)---X---------Rz(0.486)-C--Rz(0.484)-X---------Rx(0.649)-C--\n",
      "                                      |                                |                                |                                  |                                |  \n",
      "q7 : -Rz(0.649)--Rz(0.221)------------X-Rx(0.963)-Rz(0.64)-------------X-Rx(0.395)-Ry(0.533)------------X--Rz(0.423)---Rx(0.439)-----------X--Ry(0.745)-Rx(0.923)-----------X--\n",
      "\n",
      "T  : |    0     |    1    |    2     |3|    4    |    5    |    6     |7|    8    |    9    |    10    |11|    12     |   13    |   14    |15|   16    |   17    |   18    |19|\n",
      "\n"
     ]
    },
    {
     "name": "stdout",
     "output_type": "stream",
     "text": [
      "Additional result types: Amplitude(11010000,01101111,10111011,01100001,10101111,00001010,10111111,00110010,01100110,01001001)\n",
      "Dict{Any, Any}(\"10101111\" => -0.01365116870228738 - 0.012522172845097709im, \"11010000\" => -0.000933680765140563 + 0.02339385245504997im, \"01101111\" => -0.020303343925332083 + 0.02342434453960179im, \"10111011\" => 0.03709637635716637 + 0.017632009111276423im, \"00001010\" => -0.029984188683948462 - 0.138037648539239im, \"01100110\" => -0.02613739081635729 + 0.0964257984020162im, \"01100001\" => 0.03016757944179959 + 0.04810084391319486im, \"10111111\" => 0.041610268109884954 + 0.0009828833270040915im, \"00110010\" => -0.04967039709781762 + 0.05009118791271449im, \"01001001\" => -0.012551618992228347 - 0.010006765513331961im)\n",
      "(n_qubits, n_layers) = (12, 5)\n",
      "T   : |     0     |    1    |    2     |3|    4     |\n",
      "                                                     \n",
      "q0  : -Rz(0.907)---Rx(0.203)------------C-Rx(0.0228)-\n",
      "                                        |            \n",
      "q1  : -Rz(0.445)---C---------Ry(0.83)---X-Rz(0.848)--\n",
      "                   |                                 \n",
      "q2  : -Rz(0.622)---X---------Rx(0.585)--C-Rz(0.0409)-\n",
      "                                        |            \n",
      "q3  : -Rz(0.00234)-C---------Rx(0.52)---X-Rz(0.0635)-\n",
      "                   |                                 \n",
      "q4  : -Rx(0.0689)--X---------Rx(0.968)--C-Ry(0.349)--\n",
      "                                        |            \n",
      "q5  : -Rz(0.4)-----C---------Ry(0.461)--X-Rz(0.363)--\n",
      "                   |                                 \n",
      "q6  : -Rz(0.87)----X---------Rx(0.621)--C-Rz(0.344)--\n",
      "                                        |            \n",
      "q7  : -Rz(0.449)---C---------Rx(0.0474)-X-Rx(0.894)--\n",
      "                   |                                 \n",
      "q8  : -Rz(0.212)---X---------Rx(0.979)--C-Rx(0.39)---\n",
      "                                        |            \n",
      "q9  : -Rx(0.449)---C---------Ry(0.668)--X-Rz(0.325)--\n",
      "                   |                                 \n",
      "q10 : -Rx(0.0326)--X---------Ry(0.841)--C-Rx(0.153)--\n",
      "                                        |            \n",
      "q11 : -Rz(0.723)---Rx(0.451)------------X-Rz(0.15)---\n",
      "\n",
      "T   : |     0     |    1    |    2     |3|    4     |\n",
      "\n",
      "Additional result types: Amplitude(101010110111,110000011100,000011000101,100000010011,100010000000,110110111111,010111111011,100010100100,000101011101,100111010010)\n",
      "Dict{Any, Any}(\"100010000000\" => 0.004043550209855051 + 0.0029920537565034477im, \"100000010011\" => 0.005065233749259881 + 0.0007266251667812203im, \"100111010010\" => -0.00011136338830827605 + 0.0002987762859008149im, \"100010100100\" => 4.895707881262232e-5 - 0.00021823098601684223im, \"101010110111\" => -1.2782703026712468e-5 + 3.307114969058397e-5im, \"000101011101\" => -0.0011131385633172729 - 0.0020218270117571767im, \"110000011100\" => 0.01124902526898558 - 0.007779904226219425im, \"000011000101\" => 0.01089648159668512 + 0.010573671388732223im, \"010111111011\" => -0.0009757906257136396 - 0.0015083977638627342im, \"110110111111\" => -0.00015484428865643836 - 0.00015651605980452024im)\n",
      "(n_qubits, n_layers) = (12, 10)\n",
      "T   : |    0     |    1    |    2    |3|    4    |    5    |    6    |7|    8     |9|\n",
      "                                                                                     \n",
      "q0  : -Ry(0.174)--Ry(0.974)-----------C-Rz(0.143)-Rz(0.574)-----------C-Rz(0.05)-----\n",
      "                                      |                               |              \n",
      "q1  : -Rz(0.0732)-C---------Rx(0.613)-X-Ry(0.138)-C---------Ry(0.274)-X-Rz(0.0602)-C-\n",
      "                  |                               |                                | \n",
      "q2  : -Ry(0.653)--X---------Rx(0.24)--C-Rz(0.549)-X---------Ry(0.802)-C-Rz(0.33)---X-\n",
      "                                      |                               |              \n",
      "q3  : -Ry(0.496)--C---------Ry(0.69)--X-Rx(0.878)-C---------Ry(0.583)-X-Rz(0.324)--C-\n",
      "                  |                               |                                | \n",
      "q4  : -Rx(0.512)--X---------Ry(0.205)-C-Ry(0.127)-X---------Ry(0.408)-C-Rx(0.899)--X-\n",
      "                                      |                               |              \n",
      "q5  : -Ry(0.573)--C---------Rz(0.648)-X-Rx(0.621)-C---------Rx(0.919)-X-Rx(0.67)---C-\n",
      "                  |                               |                                | \n",
      "q6  : -Rz(0.0498)-X---------Ry(0.835)-C-Rx(0.666)-X---------Rx(0.261)-C-Rx(0.358)--X-\n",
      "                                      |                               |              \n",
      "q7  : -Rz(0.246)--C---------Rx(0.919)-X-Ry(0.314)-C---------Ry(0.216)-X-Ry(0.683)--C-\n",
      "                  |                               |                                | \n",
      "q8  : -Rx(0.262)--X---------Rz(0.103)-C-Rz(0.748)-X---------Ry(0.233)-C-Rz(0.501)--X-\n",
      "                                      |                               |              \n",
      "q9  : -Rx(0.543)--C---------Rx(0.677)-X-Rz(0.154)-C---------Rx(0.588)-X-Ry(0.0843)-C-\n",
      "                  |                               |                                | \n",
      "q10 : -Rz(0.725)--X---------Rx(0.525)-C-Ry(0.942)-X---------Rz(0.224)-C-Rx(0.436)--X-\n",
      "                                      |                               |              \n",
      "q11 : -Rz(0.193)--Rz(0.567)-----------X-Ry(0.557)-Rz(0.748)-----------X-Rx(0.0356)---\n",
      "\n",
      "T   : |    0     |    1    |    2    |3|    4    |    5    |    6    |7|    8     |9|\n",
      "\n",
      "Additional result types: Amplitude(000100011001,001000111101,000001111000,111010000111,111000000100,110010110000,000110011100,000001100111,001111011111,100011010001)\n",
      "Dict{Any, Any}(\"100011010001\" => -0.0012530008056468647 + 0.0016135202085662383im, \"000100011001\" => 0.0019425478325128958 + 0.00532822221323267im, \"110010110000\" => -0.001474328770043383 - 0.0015498262359541026im, \"000110011100\" => -0.0037541715104866236 + 0.0036885376439459816im, \"111010000111\" => 0.0028476573665801703 - 0.0017018048006008399im, \"000001100111\" => 0.04768858093052986 + 0.015267964605051355im, \"000001111000\" => -0.009566158066883778 + 0.037165334032765285im, \"001000111101\" => -0.010056558118297068 - 0.02259982634201103im, \"001111011111\" => 0.022750573627225802 - 0.03206198087258107im, \"111000000100\" => 0.0024046226069125752 - 0.0026541972821294813im)\n",
      "(n_qubits, n_layers) = (12, 15)\n",
      "T   : |    0     |    1    |    2     |3|    4     |    5    |    6    |7|    8     |    9     |    10    |11|    12    |   13    |    14    |\n",
      "                                                                                                                                              \n",
      "q0  : -Rx(0.379)--Rx(0.536)------------C-Rx(0.483)--Rx(0.349)-----------C-Rz(0.985)--Rz(0.973)-------------C--Rz(0.631)--Rx(0.485)------------\n",
      "                                       |                                |                                  |                                  \n",
      "q1  : -Rz(0.841)--C---------Rz(0.0996)-X-Ry(0.92)---C---------Rx(0.045)-X-Ry(0.656)--C----------Rz(0.932)--X--Rx(0.865)--C---------Ry(0.251)--\n",
      "                  |                                 |                                |                                   |                    \n",
      "q2  : -Rz(0.503)--X---------Rx(0.0266)-C-Rz(0.185)--X---------Rz(0.583)-C-Rx(0.0753)-X----------Rz(0.316)--C--Rx(0.742)--X---------Rx(0.898)--\n",
      "                                       |                                |                                  |                                  \n",
      "q3  : -Ry(0.683)--C---------Rz(0.893)--X-Rx(0.0904)-C---------Rz(0.911)-X-Rz(0.865)--C----------Rz(0.998)--X--Rz(0.136)--C---------Rx(0.582)--\n",
      "                  |                                 |                                |                                   |                    \n",
      "q4  : -Rx(0.829)--X---------Ry(0.398)--C-Rz(0.498)--X---------Rx(0.897)-C-Rz(0.613)--X----------Ry(0.667)--C--Rz(0.0522)-X---------Ry(0.337)--\n",
      "                                       |                                |                                  |                                  \n",
      "q5  : -Rx(0.919)--C---------Ry(0.451)--X-Rx(0.278)--C---------Rz(0.883)-X-Ry(0.368)--C----------Rz(0.0239)-X--Rz(0.18)---C---------Rx(0.0932)-\n",
      "                  |                                 |                                |                                   |                    \n",
      "q6  : -Ry(0.127)--X---------Rx(0.931)--C-Ry(0.398)--X---------Rz(0.273)-C-Rz(0.435)--X----------Ry(0.248)--C--Rx(0.944)--X---------Rz(0.259)--\n",
      "                                       |                                |                                  |                                  \n",
      "q7  : -Rx(0.0426)-C---------Ry(0.221)--X-Rz(0.648)--C---------Ry(0.035)-X-Rz(0.746)--C----------Rx(0.373)--X--Rx(0.663)--C---------Ry(0.703)--\n",
      "                  |                                 |                                |                                   |                    \n",
      "q8  : -Rx(0.328)--X---------Ry(0.788)--C-Rz(0.583)--X---------Rx(0.395)-C-Rx(0.309)--X----------Rx(0.918)--C--Rz(0.0568)-X---------Rx(0.0894)-\n",
      "                                       |                                |                                  |                                  \n",
      "q9  : -Rx(0.949)--C---------Rx(0.272)--X-Rz(0.617)--C---------Ry(0.238)-X-Rz(0.686)--C----------Rz(0.23)---X--Rz(0.095)--C---------Rz(0.9)----\n",
      "                  |                                 |                                |                                   |                    \n",
      "q10 : -Ry(0.471)--X---------Rz(0.292)--C-Ry(0.928)--X---------Ry(0.183)-C-Ry(0.343)--X----------Ry(0.998)--C--Ry(0.873)--X---------Rx(0.904)--\n",
      "                                       |                                |                                  |                                  \n",
      "q11 : -Rz(0.342)--Ry(0.775)------------X-Rx(0.583)--Rx(0.814)-----------X-Rx(0.665)--Rz(0.0852)------------X--Rz(0.0811)-Ry(0.817)------------\n",
      "\n",
      "T   : |    0     |    1    |    2     |3|    4     |    5    |    6    |7|    8     |    9     |    10    |11|    12    |   13    |    14    |\n",
      "\n",
      "Additional result types: Amplitude(101010110110,111101110000,111101000110,100111010100,011110101110,000111001110,101111010011,000011010011,001000111111,001001010100)\n",
      "Dict{Any, Any}(\"011110101110\" => 0.001957621297329321 - 0.0013148906873314272im, \"101111010011\" => -0.001281297950137514 - 0.010076671531195734im, \"111101000110\" => 0.000929027894546623 - 0.0030461889538177618im, \"100111010100\" => 0.0023448348624560585 - 0.006706523364710431im, \"000111001110\" => 0.002623575565800092 + 0.00125313051174553im, \"001000111111\" => -0.022464896246806972 - 0.0027849614611646072im, \"001001010100\" => 0.0034072106460342443 + 0.015982867019755747im, \"111101110000\" => -0.0024878130538472567 + 0.0037793025658684762im, \"000011010011\" => -0.007025611400173648 + 0.019010339142551572im, \"101010110110\" => 0.005378367536430181 + 0.009051233084290301im)\n",
      "(n_qubits, n_layers) = (12, 20)\n",
      "T   : |    0     |    1    |     2     |3|    4     |    5     |    6     |7|    8     |    9    |   10    |11|    12    |   13    |    14    |15|    16     |   17    |    18    |19|\n",
      "                                                                                                                                                                                      \n",
      "q0  : -Rx(0.82)---Ry(0.566)-------------C-Ry(0.125)--Ry(0.762)-------------C-Ry(0.138)--Rz(0.699)-----------C--Rx(0.57)---Ry(0.495)------------C--Ry(0.588)---Ry(0.637)------------C--\n",
      "                                        |                                  |                                |                                  |                                   |  \n",
      "q1  : -Rx(0.612)--C---------Ry(0.584)---X-Rz(0.271)--C----------Ry(0.984)--X-Rz(0.215)--C---------Rx(0.874)-X--Rz(0.444)--C---------Rz(0.623)--X--Ry(0.0836)--C---------Rz(0.703)--X--\n",
      "                  |                                  |                                  |                                 |                                   |                       \n",
      "q2  : -Ry(0.643)--X---------Rz(0.708)---C-Ry(0.791)--X----------Ry(0.0989)-C-Rx(0.863)--X---------Rx(0.479)-C--Rx(0.896)--X---------Rz(0.127)--C--Rz(0.416)---X---------Rz(0.225)--C--\n",
      "                                        |                                  |                                |                                  |                                   |  \n",
      "q3  : -Rx(0.121)--C---------Ry(0.00831)-X-Rx(0.783)--C----------Rz(0.633)--X-Rz(0.882)--C---------Ry(0.246)-X--Ry(0.556)--C---------Ry(0.891)--X--Rz(0.47)----C---------Rz(0.528)--X--\n",
      "                  |                                  |                                  |                                 |                                   |                       \n",
      "q4  : -Ry(0.0577)-X---------Ry(0.907)---C-Rx(0.993)--X----------Rz(0.581)--C-Ry(0.84)---X---------Rz(0.49)--C--Rz(0.158)--X---------Rx(0.644)--C--Rx(0.0922)--X---------Rx(0.716)--C--\n",
      "                                        |                                  |                                |                                  |                                   |  \n",
      "q5  : -Rx(0.011)--C---------Ry(0.987)---X-Rx(0.166)--C----------Rz(0.29)---X-Ry(0.309)--C---------Rx(0.199)-X--Rx(0.836)--C---------Rx(0.0412)-X--Ry(0.00495)-C---------Rz(0.175)--X--\n",
      "                  |                                  |                                  |                                 |                                   |                       \n",
      "q6  : -Ry(0.331)--X---------Rz(0.727)---C-Rx(0.0906)-X----------Ry(0.0411)-C-Rz(0.838)--X---------Rx(0.795)-C--Ry(0.0842)-X---------Rz(0.727)--C--Ry(0.0201)--X---------Rz(0.158)--C--\n",
      "                                        |                                  |                                |                                  |                                   |  \n",
      "q7  : -Rx(0.848)--C---------Rz(0.568)---X-Rz(0.0593)-C----------Rz(0.913)--X-Rx(0.22)---C---------Ry(0.83)--X--Rx(0.383)--C---------Rx(0.111)--X--Ry(0.733)---C---------Ry(0.325)--X--\n",
      "                  |                                  |                                  |                                 |                                   |                       \n",
      "q8  : -Ry(0.333)--X---------Rz(0.846)---C-Ry(0.966)--X----------Rz(0.455)--C-Rz(0.798)--X---------Rx(0.32)--C--Rz(0.765)--X---------Ry(0.592)--C--Rz(1)-------X---------Ry(0.0402)-C--\n",
      "                                        |                                  |                                |                                  |                                   |  \n",
      "q9  : -Rz(0.903)--C---------Rx(0.0146)--X-Rx(0.348)--C----------Ry(0.341)--X-Ry(0.0653)-C---------Rz(0.99)--X--Rx(0.114)--C---------Rx(0.152)--X--Ry(0.348)---C---------Rz(0.365)--X--\n",
      "                  |                                  |                                  |                                 |                                   |                       \n",
      "q10 : -Rx(0.202)--X---------Ry(0.458)---C-Rz(0.516)--X----------Rx(0.0715)-C-Rz(0.664)--X---------Rz(0.729)-C--Ry(0.283)--X---------Ry(0.626)--C--Ry(0.0697)--X---------Ry(0.53)---C--\n",
      "                                        |                                  |                                |                                  |                                   |  \n",
      "q11 : -Rx(0.786)--Rz(0.522)-------------X-Rz(0.766)--Ry(0.0575)------------X-Rx(0.137)--Ry(0.158)-----------X--Ry(0.084)--Ry(0.501)------------X--Ry(0.573)---Ry(0.853)------------X--\n",
      "\n",
      "T   : |    0     |    1    |     2     |3|    4     |    5     |    6     |7|    8     |    9    |   10    |11|    12    |   13    |    14    |15|    16     |   17    |    18    |19|\n",
      "\n"
     ]
    },
    {
     "name": "stdout",
     "output_type": "stream",
     "text": [
      "Additional result types: Amplitude(001110011110,011111010110,100110011110,011111101111,110010001111,110101100110,000110000111,011010111001,010100100111,111101000001)\n",
      "Dict{Any, Any}(\"110101100110\" => -0.02742593500752173 + 0.013607534829265345im, \"011111101111\" => 0.008399057537081176 + 0.00612715268107509im, \"011111010110\" => -0.007157638123007695 + 0.008845207194955651im, \"110010001111\" => -0.0024190050623582506 + 0.005558769848747761im, \"011010111001\" => 0.005615452939862786 + 0.00029803987389070725im, \"010100100111\" => 0.007772884700595126 - 0.012134933746940937im, \"100110011110\" => -0.01159804157435809 + 0.014073278503040873im, \"000110000111\" => 0.005190397905243801 + 0.002183038274994741im, \"111101000001\" => -0.0026227661625356728 + 0.020305446214543374im, \"001110011110\" => 0.024840824745563532 + 0.00329836492250304im)\n"
     ]
    }
   ],
   "source": [
    "for n_qubits in 4:4:12, n_layers in 5:5:20\n",
    "    @show n_qubits, n_layers\n",
    "    circ = generate_random_circ(n_qubits, n_layers)\n",
    "    states = [prod(rand([\"0\",\"1\"], n_qubits)) for ii in 1:10]\n",
    "    circ.amplitude(state=states)\n",
    "    py\"print\"(circ)\n",
    "    task = device.run(circ, shots=0)\n",
    "    println(task.result().values[1])\n",
    "end"
   ]
  },
  {
   "cell_type": "markdown",
   "metadata": {},
   "source": [
    "In a \"real\" simulation we would compare these output amplitudes with the observed frequencies of output states generated by running the circuits on our quantum device. In this way we could determine how noisy the quantum device is and probe things like gate fidelities and decoherence times."
   ]
  },
  {
   "cell_type": "markdown",
   "metadata": {},
   "source": [
    "### Suggestions for further exploration\n",
    "\n",
    "- Try some of the other 2-qubit gates Braket supports in these circuits -- like `SWAP`, `iSWAP`, `CX`, `CY`, `CZ`, and others. Do they affect the runtimes and outputs of your circuit?\n",
    "- Try implementing some of the examples in Braket's [getting started](https://github.com/aws/amazon-braket-examples/tree/main/examples/getting_started) or [advanced circuits algorithms](https://github.com/aws/amazon-braket-examples/tree/main/examples/advanced_circuits_algorithms) set of tutorials in Julia."
   ]
  },
  {
   "cell_type": "code",
   "execution_count": null,
   "metadata": {},
   "outputs": [],
   "source": []
  }
 ],
 "metadata": {
  "kernelspec": {
   "display_name": "Julia 1.6.1-pre",
   "language": "julia",
   "name": "julia-1.6"
  },
  "language_info": {
   "file_extension": ".jl",
   "mimetype": "application/julia",
   "name": "julia",
   "version": "1.6.2"
  }
 },
 "nbformat": 4,
 "nbformat_minor": 4
}
