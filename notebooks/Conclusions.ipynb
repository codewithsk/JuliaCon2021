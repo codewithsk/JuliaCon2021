{
 "cells": [
  {
   "cell_type": "markdown",
   "metadata": {},
   "source": [
    "## Resources to learn more about quantum computing\n",
    "\n",
    "- [Nielsen and Chuang](https://www.amazon.com/Quantum-Computation-Information-10th-Anniversary/dp/1107002176)\n",
    "- [John Preskill's course notes](http://theory.caltech.edu/~preskill/ph229/)\n",
    "- [Amazon Braket example notebooks](https://github.com/aws/amazon-braket-examples/) -- we welcome submissions!\n",
    "- [Yao.jl tutorials](https://github.com/QuantumBFS/tutorials)\n",
    "- [Qiskit textbook](https://qiskit.org/textbook/preface.html)\n",
    "- [PennyLane demos](https://pennylane.ai/qml/demonstrations.html)"
   ]
  },
  {
   "cell_type": "markdown",
   "metadata": {},
   "source": [
    "## Inspiration for future projects/hackathon ideas\n",
    "\n",
    "- Check out the [PennyLane](https://pennylane.readthedocs.io/en/stable/) library for examples of more hybrid quantum algorithms -- can you implement some of these directly or using Yao?\n",
    "- Try some of the challenges from last February's [QHack](https://qhack.ai/). You can find some writeups of winning submissions if you want to try reproducing them in Julia!\n",
    "- There are a wide variety of optimization problems expressible in QUBO form, beyond what we covered in the QAOA section.\n",
    "- Check out the [Unitary Fund](https://unitary.fund/), which provides grants for those writing open source software in the quantum space.\n",
    "- There's also the [Quantum Open Source Foundation](https://qosf.org/) which matches open source developers with mentors (including from our team!).\n",
    "- Amazon Braket and BMW are holding a [quantum challenge](https://aws.amazon.com/blogs/quantum-computing/exploring-industrial-use-cases-in-the-bmw-quantum-computing-challenge/), with submissions due September 24. Credits are being offered to participating teams upon request."
   ]
  },
  {
   "cell_type": "markdown",
   "metadata": {},
   "source": [
    "## Want to do research with Amazon Braket?\n",
    "\n",
    "We weren't able to use the real quantum devices or managed simulators available on the service today because we wanted the entire session to be free for everyone. If you're a researcher interested in using Amazon Braket as part of your research, you can apply for [AWS Cloud Credits](https://aws.amazon.com/government-education/research-and-technical-computing/cloud-credit-for-research/) which can be used on the service."
   ]
  },
  {
   "cell_type": "markdown",
   "metadata": {},
   "source": [
    "## We're hiring!\n",
    "\n",
    "AWS is hiring for a variety of roles as part of our broad quantum computing effort:\n",
    "- Software engineers\n",
    "- Research scientists (in a variety of areas!)\n",
    "- Product managers\n",
    "- Technical writers\n",
    "- and others\n",
    "\n",
    "We also have positions for interns!\n",
    "\n",
    "To learn more about open positions, check out [our jobs page](https://www.amazon.jobs/en/landing_pages/aws-quantum). Feel free to talk to us offline if you have any questions!"
   ]
  },
  {
   "cell_type": "code",
   "execution_count": null,
   "metadata": {},
   "outputs": [],
   "source": []
  }
 ],
 "metadata": {
  "kernelspec": {
   "display_name": "Julia 1.6.1-pre",
   "language": "julia",
   "name": "julia-1.6"
  },
  "language_info": {
   "file_extension": ".jl",
   "mimetype": "application/julia",
   "name": "julia",
   "version": "1.6.2"
  }
 },
 "nbformat": 4,
 "nbformat_minor": 4
}
