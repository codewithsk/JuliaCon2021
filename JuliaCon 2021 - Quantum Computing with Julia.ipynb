{
 "cells": [
  {
   "cell_type": "markdown",
   "metadata": {},
   "source": [
    "# Welcome!\n",
    "\n",
    "In this workshop, we're going to cover the basics of quantum computing with Julia and AWS Braket. The two of us are:\n",
    "\n",
    "- Katharine Hyatt (@kshyatt on Github, @kslimes on Twitter), Research Scientist at Amazon Braket\n",
    "- Saravanakumar Shanmugam (@codewithsk on Github, @i__am__sk on Twitter), Software Engineer at Amazon Braket"
   ]
  },
  {
   "cell_type": "markdown",
   "metadata": {},
   "source": [
    "# What we'll be covering today\n",
    "\n",
    "- Basics of quantum computing\n",
    "- Optimization with hybrid classical-quantum approaches (QAOA)\n",
    "- Quantum machine learning\n",
    "\n",
    "All the Jupyter notebooks are [available on GitHub](https://github.com/codewithsk/JuliaCon2021/)."
   ]
  },
  {
   "cell_type": "markdown",
   "metadata": {},
   "source": [
    "# How to get set up\n",
    "\n",
    "Follow the pre-workshop instructions [here](README.md)!"
   ]
  },
  {
   "cell_type": "code",
   "execution_count": null,
   "metadata": {},
   "outputs": [],
   "source": []
  }
 ],
 "metadata": {
  "kernelspec": {
   "display_name": "Julia 1.6.1-pre",
   "language": "julia",
   "name": "julia-1.6"
  },
  "language_info": {
   "file_extension": ".jl",
   "mimetype": "application/julia",
   "name": "julia",
   "version": "1.6.2"
  }
 },
 "nbformat": 4,
 "nbformat_minor": 4
}
