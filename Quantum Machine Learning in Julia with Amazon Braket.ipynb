{
 "cells": [
  {
   "cell_type": "markdown",
   "metadata": {},
   "source": [
    "# Quantum Machine Learning in Julia with Amazon Braket"
   ]
  },
  {
   "cell_type": "markdown",
   "metadata": {},
   "source": [
    "## 0. Setup"
   ]
  },
  {
   "cell_type": "markdown",
   "metadata": {},
   "source": [
    "Install pre-requisites required for this notebook to run"
   ]
  },
  {
   "cell_type": "code",
   "execution_count": 26,
   "metadata": {},
   "outputs": [],
   "source": [
    "using Pkg;\n",
    "#Pkg.add(\"Plots\");\n",
    "#Pkg.add(\"PyPlot\");\n",
    "#Pkg.add(\"PyCall\");\n",
    "#Pkg.add(\"AWS\");\n",
    "#Pkg.add(\"Colors\");\n",
    "#Pkg.build(\"PyCall\");\n",
    "#Pkg.add(\"Flux\");\n",
    "#Pkg.add(\"MLDatasets\");\n",
    "#Pkg.add(\"Optim\"); #TODO: Keep one or the other\n",
    "#Pkg.add(\"NLopt\");\n",
    "#Pkg.add(\"ProgressMeter\");"
   ]
  },
  {
   "cell_type": "markdown",
   "metadata": {},
   "source": [
    "Import all the required libraries"
   ]
  },
  {
   "cell_type": "code",
   "execution_count": 27,
   "metadata": {},
   "outputs": [
    {
     "name": "stderr",
     "output_type": "stream",
     "text": [
      "WARNING: replacing module S3.\n",
      "WARNING: replacing module Braket.\n",
      "WARNING: replacing module STS.\n"
     ]
    }
   ],
   "source": [
    "using PyCall\n",
    "using Statistics: mean\n",
    "using AWS: @service\n",
    "@service S3;\n",
    "@service Braket;\n",
    "@service STS;\n",
    "using MLDatasets\n",
    "using Colors\n",
    "using Plots\n",
    "using Flux: onehotbatch, onecold, onehot;\n",
    "using Flux.Data: DataLoader\n",
    "using Flux;\n",
    "using NLopt;\n",
    "using ProgressMeter;\n",
    "\n",
    "# Braket imports\n",
    "awsbraket = pyimport(\"braket.aws\");\n",
    "devices   = pyimport(\"braket.devices\");\n",
    "circuit   = pyimport(\"braket.circuits\");"
   ]
  },
  {
   "cell_type": "markdown",
   "metadata": {},
   "source": [
    "We are going to use the LocalSimulator to run this notebook, so that we don't incur any cost."
   ]
  },
  {
   "cell_type": "code",
   "execution_count": 28,
   "metadata": {},
   "outputs": [],
   "source": [
    "qpu = devices.LocalSimulator();"
   ]
  },
  {
   "cell_type": "markdown",
   "metadata": {},
   "source": [
    "## 1. Quantum Neural Networks (QNN)"
   ]
  },
  {
   "cell_type": "markdown",
   "metadata": {},
   "source": [
    "The following example has been adapted from \\[[1](https://aws.amazon.com/blogs/quantum-computing/aioi-using-quantum-machine-learning-with-amazon-braket-to-create-a-binary-classifier/)\\]"
   ]
  },
  {
   "cell_type": "markdown",
   "metadata": {},
   "source": [
    "In machine learning, binary classification is a supervised learning task where the labels can take one of two values. For instance, given a dataset of images of food, a binary classification problem can be useful in detecting whether an image is of a hot dog or not."
   ]
  },
  {
   "cell_type": "markdown",
   "metadata": {},
   "source": [
    "![https://tinyurl.com/hotdog-classification](assets/hotdog.png \"Quanvolutional Neural Networks\")"
   ]
  },
  {
   "cell_type": "markdown",
   "metadata": {},
   "source": [
    "A machine learning model to solve a binary classification problem needs four components:\n",
    "\n",
    "**A collection of data points:** The data along with the ground-truth labels for each datapoint. In our hot-dog example, the data would be a collection of images and their ground-truth labels would be whether they are images of hot-dogs.\n",
    "\n",
    "**Objective function:** Tells us how accurate/inaccurate the model is from the correct solution for a particular set of datapoints.\n",
    "\n",
    "**Trainable parameters:** A set of weights that can be applied to the model. The model uses these weights combined with the data to make a decision\n",
    "\n",
    "**An optimization routine:** For a given set of trainable parameters, the optimization routine tells us how to change the trainable parameters to minimize the objective function. "
   ]
  },
  {
   "cell_type": "markdown",
   "metadata": {},
   "source": [
    "In classical machine learning, there are several options for each of the aforementioned components.\n",
    "\n",
    "\n",
    "**Quantum Machine Learning** in near term quantum devices can refer to any one of the following scenarios\n",
    "\n",
    "![Schuld, Maria, and Francesco Petruccione. Supervised learning with quantum computers. Vol. 17. Berlin: Springer, 2018.](assets/landscape.png \"Quantum Machine Learning Landscape\")\n",
    "\n"
   ]
  },
  {
   "cell_type": "markdown",
   "metadata": {},
   "source": [
    "**CC:** Classical data processed by Classical algorithms\n",
    "\n",
    "\n",
    "**CQ:** Classical data processed by Quantum algorithms\n",
    "\n",
    "\n",
    "**QC:** Quantum data processed by Classical algorithms\n",
    "\n",
    "\n",
    "**QQ:** Quantum data processed by Quantum algorithms\n",
    "\n",
    "\n",
    "In this notebook, we will explore the **CQ** scenario of clasical data processed by quantum algorithms. We will use the binary classification problem of parity detection. A bitstring $x_i$, has even parity if it has an even number of 1 bits and odd parity if it has an odd number of 1 bits.\n"
   ]
  },
  {
   "cell_type": "markdown",
   "metadata": {},
   "source": [
    "### 1.1 Generate Data\n",
    "\n",
    "The function below computes the parity of a given bit string."
   ]
  },
  {
   "cell_type": "code",
   "execution_count": 29,
   "metadata": {},
   "outputs": [
    {
     "name": "stdout",
     "output_type": "stream",
     "text": [
      "Bit string: 1011 | Parity: 1\n",
      "Bit string: 1001 | Parity: 0\n"
     ]
    }
   ],
   "source": [
    "function parity(bitStr)\n",
    "    return count(i->(i=='1'), bitStr) % 2\n",
    "end;\n",
    "\n",
    "println(\"Bit string: 1011 | Parity: \", parity(\"1011\"))\n",
    "println(\"Bit string: 1001 | Parity: \", parity(\"1001\"))"
   ]
  },
  {
   "cell_type": "markdown",
   "metadata": {},
   "source": [
    "To generate data, we will take all bit strings of size $n$ and label them as $0$ if they have an even parity and $1$ if they have odd parity. We use ~70% of the data for training and ~30% of the data for testing."
   ]
  },
  {
   "cell_type": "code",
   "execution_count": 62,
   "metadata": {},
   "outputs": [],
   "source": [
    "nBits = 5;\n",
    "\n",
    "trainSet = []\n",
    "testSet = []\n",
    "\n",
    "trainLabel = []\n",
    "testLabel = []\n",
    "\n",
    "for ind in 1:2^nBits-1\n",
    "    if rand() < 0.30\n",
    "        bitStr = join(string.(digits(ind, base=2, pad=nBits)))\n",
    "        push!(testSet, bitStr)\n",
    "        push!(testLabel, parity(bitStr))\n",
    "    else\n",
    "        bitStr = join(string.(digits(ind, base=2, pad=nBits)))\n",
    "        push!(trainSet, bitStr)\n",
    "        push!(trainLabel, parity(bitStr))\n",
    "    end;\n",
    "end;"
   ]
  },
  {
   "cell_type": "markdown",
   "metadata": {},
   "source": [
    "Let's sample a few data points from the training set"
   ]
  },
  {
   "cell_type": "code",
   "execution_count": 63,
   "metadata": {},
   "outputs": [
    {
     "name": "stdout",
     "output_type": "stream",
     "text": [
      "Data: 10010 | Label: 0\n",
      "Data: 00010 | Label: 1\n",
      "Data: 00010 | Label: 1\n",
      "Data: 10110 | Label: 1\n",
      "Data: 00010 | Label: 1\n"
     ]
    }
   ],
   "source": [
    "for i in 1:5\n",
    "    ind = rand(1:length(trainSet))\n",
    "    println(\"Data: \", trainSet[ind], \" | Label: \", trainLabel[ind])\n",
    "end"
   ]
  },
  {
   "cell_type": "markdown",
   "metadata": {},
   "source": [
    "### 1.2 Circuits as Models"
   ]
  },
  {
   "cell_type": "markdown",
   "metadata": {},
   "source": [
    "In classical machine learning, we have several choices for what model we can use (Regression, SVM, Neural Networks etc.). However, they can mostly be broken down into learning a set of parameters that can be combined with the data to generate the outcome we want. The learned parameters work in the most optimal setting and generate predictions that are closest to the data distribution."
   ]
  },
  {
   "cell_type": "markdown",
   "metadata": {},
   "source": [
    "|  |  |\n",
    "| --- | --- |\n",
    "| ![](assets/perceptron.jpg \"The perceptron\") | ![](assets/theta-landscape.png \"Parameter Landscape\") |"
   ]
  },
  {
   "cell_type": "markdown",
   "metadata": {},
   "source": [
    "Similarly, variational quantum circuits with a set of classical parameters $W$ can be used to make predictions for a given dataset. By finding the most optimal parameters $W$ we can improve the performance of the model.\n",
    "\n",
    "However, we first need to map our classical bitstring into quantum states. We map classical bit values 0 and 1 onto quantum states |0〉 and |1〉, respectively. \n",
    "\n",
    "By convention, the initial state of a qubit is always assumed to be |0〉. If a quantum algorithm requires the input quantum state to be |1〉, then we obtain it from |0〉by applying a qubit flip gate $X$ \n",
    "\n",
    "$$|1〉 = X |0〉$$ \n",
    "\n",
    "Below we provide code that generates a quantum circuit for preparing an arbitrary multi-qubit computational basis state |$\\psi_i$ 〉using the Amazon Braket SDK. Unlike Julia, the Braket SDK uses 0 based qubit indexing. Although not strictly necessary, we add identity gates for indices with 0 in the bitstring."
   ]
  },
  {
   "cell_type": "code",
   "execution_count": 32,
   "metadata": {},
   "outputs": [],
   "source": [
    "function bit_string_to_circuit(bitStr)\n",
    "    circ = circuit.Circuit()\n",
    "    \n",
    "    for i=firstindex(bitStr):lastindex(bitStr)\n",
    "        if bitStr[i] == '1'\n",
    "            circ.add(circuit.Circuit().x(i-1))\n",
    "        else\n",
    "            circ.add(circuit.Circuit().i(i-1))\n",
    "        end\n",
    "    end\n",
    "    \n",
    "    return circ\n",
    "end;"
   ]
  },
  {
   "cell_type": "markdown",
   "metadata": {},
   "source": [
    "We can visualize how our function converted the bit string by using the Amazon Braket SDK's diagram function:"
   ]
  },
  {
   "cell_type": "code",
   "execution_count": 33,
   "metadata": {},
   "outputs": [
    {
     "name": "stdout",
     "output_type": "stream",
     "text": [
      "T  : |0|\n",
      "        \n",
      "q0 : -X-\n",
      "        \n",
      "q1 : -X-\n",
      "        \n",
      "q2 : -X-\n",
      "        \n",
      "q3 : -I-\n",
      "        \n",
      "q4 : -I-\n",
      "        \n",
      "q5 : -I-\n",
      "        \n",
      "q6 : -X-\n",
      "        \n",
      "q7 : -X-\n",
      "        \n",
      "q8 : -X-\n",
      "\n",
      "T  : |0|\n"
     ]
    }
   ],
   "source": [
    "println(bit_string_to_circuit(\"111000111\").diagram())"
   ]
  },
  {
   "cell_type": "markdown",
   "metadata": {},
   "source": [
    "For our parity detection example, we will use a quantum circuit with $N+1$ qubits. The $N$ bit bitstring is encoded in the first $N$ qubits labelled $\\{0, N-1\\}$. The $(N+1)^{th}$ qubit labelled $N$ is used to store the output binary label assigned to the bitstring. We first apply the RY gate to the first $N$ qubits and the $RX$ gate to the $(N+1)^{th}$ qubit. The XX rotation gate is applied to each qubit with the ${0, N}$ qubits as the control qubits and the $(N+1)^{th}$ qubit as the target qubit. We then consider the angles for each of the rotation gates in the circuit as optimization parameters. "
   ]
  },
  {
   "cell_type": "markdown",
   "metadata": {},
   "source": [
    "![M Fischer, D Brooks, P Lougovski, and T Takeshita - 2021](assets/qml_parity.jpg \"Quantum Neural Network\")"
   ]
  },
  {
   "cell_type": "markdown",
   "metadata": {},
   "source": [
    "The code below implements this QNN, applies it to an arbitrary input state defined by a classical bit string, and measures the values of the label qubit."
   ]
  },
  {
   "cell_type": "code",
   "execution_count": 34,
   "metadata": {},
   "outputs": [],
   "source": [
    "function QNN(bitStr, pars)\n",
    "    nQbts = length(bitStr)\n",
    "    qnn = circuit.Circuit()\n",
    "    qnn.add(circuit.Circuit().rx(nQbts, pars[1]))\n",
    "    for i = 1:length(bitStr)\n",
    "        angles = pars[2 * (i - 1) + 1:2 * (i - 1) + 1 + 2]\n",
    "        if bitStr[i] == '1'\n",
    "            qnn.add(circuit.Circuit().x(i - 1))\n",
    "        end\n",
    "        qnn.add(circuit.Circuit().ry(i - 1, angles[2]))\n",
    "        if i <= nQbts\n",
    "            qnn.add(circuit.Circuit().xx(i - 1, nQbts, angles[3]))\n",
    "        end\n",
    "    end\n",
    "    observZ = circuit.Observable.Z()\n",
    "    return qnn.add(circuit.Circuit().expectation(observZ, target=[nQbts]))\n",
    "end;"
   ]
  },
  {
   "cell_type": "markdown",
   "metadata": {},
   "source": [
    "Let's apply random parameters to the QNN with a bit string of length 4."
   ]
  },
  {
   "cell_type": "code",
   "execution_count": 35,
   "metadata": {},
   "outputs": [
    {
     "name": "stdout",
     "output_type": "stream",
     "text": [
      "T  : |  0  |  1  |  2  |  3  |  4  |  5  | Result Types |\n",
      "                                                         \n",
      "q0 : -X-----Ry(2)-XX(3)----------------------------------\n",
      "                  |                                      \n",
      "q1 : -Ry(4)-------|-----XX(5)----------------------------\n",
      "                  |     |                                \n",
      "q2 : -X-----Ry(6)-|-----|-----XX(7)----------------------\n",
      "                  |     |     |                          \n",
      "q3 : -Ry(8)-------|-----|-----|-----XX(9)----------------\n",
      "                  |     |     |     |                    \n",
      "q4 : -Rx(1)-------XX(3)-XX(5)-XX(7)-XX(9)-Expectation(Z)-\n",
      "\n",
      "T  : |  0  |  1  |  2  |  3  |  4  |  5  | Result Types |\n"
     ]
    }
   ],
   "source": [
    "sampleNBits = 4\n",
    "value = \"1010\"\n",
    "weights = 1:(sampleNBits * 2 + 1)\n",
    "circ = QNN(value, weights)\n",
    "println(circ.diagram())"
   ]
  },
  {
   "cell_type": "markdown",
   "metadata": {},
   "source": [
    "To generate a prediction from the QNN, we can define a utility function"
   ]
  },
  {
   "cell_type": "code",
   "execution_count": 39,
   "metadata": {},
   "outputs": [],
   "source": [
    "function predict(bitStr, params)\n",
    "    qpu = devices.LocalSimulator()\n",
    "    circ = QNN(bitStr, params)\n",
    "\n",
    "    activation = qpu.run(circ, shots=0).result().values[1]\n",
    "    \n",
    "    return 0 + ((1 - activation) / 2 > 0.5)\n",
    "end;"
   ]
  },
  {
   "cell_type": "markdown",
   "metadata": {},
   "source": [
    "We can try out this utility function with a random bitstring and random weights."
   ]
  },
  {
   "cell_type": "code",
   "execution_count": 46,
   "metadata": {},
   "outputs": [
    {
     "name": "stdout",
     "output_type": "stream",
     "text": [
      "Model predicted: 0 | Actual Parity: 1\n"
     ]
    }
   ],
   "source": [
    "nBits = 4\n",
    "value = \"1011\"\n",
    "weights = rand(-pi:pi,(4*2+1))\n",
    "println(\"Model predicted: \", predict(value, weights), \" | \", \"Actual Parity: \", parity(value))"
   ]
  },
  {
   "cell_type": "markdown",
   "metadata": {},
   "source": [
    "### 1.3 The Objective Function"
   ]
  },
  {
   "cell_type": "markdown",
   "metadata": {},
   "source": [
    "We use the mean-square error as a metric to identify how far off we are from the ideal solution. The mean square error is:\n",
    "\n",
    "$$\n",
    "MSE(Y, \\hat{Y}) = \\frac{\\Sigma_{i=0}^N y_i - \\hat{y}_i}{N}\n",
    "$$\n"
   ]
  },
  {
   "cell_type": "code",
   "execution_count": 47,
   "metadata": {},
   "outputs": [],
   "source": [
    "function square_loss(labels, predictions)\n",
    "    loss = 0\n",
    "    \n",
    "    for (i, label) in enumerate(labels)\n",
    "        loss+=(labels[i] - predictions[i])^2\n",
    "    end\n",
    "    \n",
    "    return loss/length(labels)[1]\n",
    "end;\n"
   ]
  },
  {
   "cell_type": "markdown",
   "metadata": {},
   "source": [
    "The cost function defined below computes the mean squared error for the entire training data"
   ]
  },
  {
   "cell_type": "code",
   "execution_count": 48,
   "metadata": {},
   "outputs": [],
   "source": [
    "function cost(var, features, labels)\n",
    "    preds = []\n",
    "    for feature in features\n",
    "        prediction = predict(feature, var)\n",
    "        push!(preds,prediction)\n",
    "    end;\n",
    "    lossVal = square_loss(labels, preds)\n",
    "    \n",
    "    return lossVal\n",
    "end;"
   ]
  },
  {
   "cell_type": "markdown",
   "metadata": {},
   "source": [
    "### 1.5 The Parameter Shift Rule"
   ]
  },
  {
   "cell_type": "markdown",
   "metadata": {},
   "source": [
    "The parameter-shift rule states that, given a variational quantum circuit $U(\\boldsymbol{\\theta})$ composed of parametrized Pauli rotations, and some measured observable $\\hat{B}$, the derivative of the expectation value"
   ]
  },
  {
   "cell_type": "markdown",
   "metadata": {},
   "source": [
    "$$\n",
    "\\langle\\hat{B}\\rangle(\\boldsymbol{\\theta})=\\left\\langle 0\\left|U(\\boldsymbol{\\theta})^{\\dagger} \\hat{B} U(\\boldsymbol{\\theta})\\right| 0\\right\\rangle\n",
    "$$"
   ]
  },
  {
   "cell_type": "markdown",
   "metadata": {},
   "source": [
    "with respect to the input circuit parameters $\\theta$ is given by"
   ]
  },
  {
   "cell_type": "markdown",
   "metadata": {},
   "source": [
    "$$\n",
    "\\nabla_{\\theta_{i}}\\langle\\hat{B}\\rangle(\\boldsymbol{\\theta})=\\frac{1}{2}\\left[\\langle\\hat{B}\\rangle\\left(\\boldsymbol{\\theta}+\\frac{\\pi}{2} \\hat{\\mathbf{e}}_{i}\\right)-\\langle\\hat{B}\\rangle\\left(\\boldsymbol{\\theta}-\\frac{\\pi}{2} \\hat{\\mathbf{e}}_{i}\\right)\\right]\n",
    "$$"
   ]
  },
  {
   "cell_type": "markdown",
   "metadata": {},
   "source": [
    "Thus, the gradient of the expectation value can be calculated by evaluating the same variational quantum circuit, but with shifted parameter values \\[[2](https://pennylane.ai/qml/demos/tutorial_backprop.html)\\]"
   ]
  },
  {
   "cell_type": "code",
   "execution_count": 49,
   "metadata": {},
   "outputs": [],
   "source": [
    "function parameter_shift_term(dataset, labels, params, i)\n",
    "    shifted = copy(params)\n",
    "    \n",
    "    shifted[i] += pi/2\n",
    "    plus = cost(shifted, dataset, labels)\n",
    "    \n",
    "    shifted[i] -= pi\n",
    "    minus = cost(shifted, dataset, labels)\n",
    "    \n",
    "    return 0.5 * (plus - minus)\n",
    "end;"
   ]
  },
  {
   "cell_type": "code",
   "execution_count": 50,
   "metadata": {},
   "outputs": [],
   "source": [
    "function parameter_shift(dataset, labels, params)\n",
    "    gradients = zeros(size(params)[1])\n",
    "    \n",
    "    for i in 1:size(params)[1]\n",
    "        gradients[i] = parameter_shift_term(dataset, labels, params, i)\n",
    "    end;\n",
    "    \n",
    "    return gradients;\n",
    "end;"
   ]
  },
  {
   "cell_type": "markdown",
   "metadata": {},
   "source": [
    "### 1.6 Training the Quantum Neural Network"
   ]
  },
  {
   "cell_type": "markdown",
   "metadata": {},
   "source": [
    "Now that we have a way to get the direction in which the parameters need to be updated, we can use gradient descent to perform the actual optimization"
   ]
  },
  {
   "cell_type": "code",
   "execution_count": 51,
   "metadata": {},
   "outputs": [],
   "source": [
    "opt = Descent(0.01); # Gradient descent with learning rate 0.1\n",
    "W = rand(-pi:pi, nBits * 2 + 1);\n",
    "trainingLoss = []"
   ]
  },
  {
   "cell_type": "code",
   "execution_count": 54,
   "metadata": {},
   "outputs": [
    {
     "name": "stderr",
     "output_type": "stream",
     "text": [
      "\u001b[32mProgress: 100%|█████████████████████████████████████████| Time: 0:01:16\u001b[39m\n"
     ]
    }
   ],
   "source": [
    "epochs = 100;\n",
    "@showprogress for i in 1:epochs\n",
    "    Flux.Optimise.update!(opt, W, parameter_shift(trainSet, trainLabel, W))\n",
    "    push!(trainingLoss, cost(W, trainSet, trainLabel))\n",
    "end;"
   ]
  },
  {
   "cell_type": "code",
   "execution_count": 55,
   "metadata": {},
   "outputs": [
    {
     "data": {
      "image/svg+xml": [
       "<?xml version=\"1.0\" encoding=\"utf-8\"?>\n",
       "<svg xmlns=\"http://www.w3.org/2000/svg\" xmlns:xlink=\"http://www.w3.org/1999/xlink\" width=\"600\" height=\"400\" viewBox=\"0 0 2400 1600\">\n",
       "<defs>\n",
       "  <clipPath id=\"clip180\">\n",
       "    <rect x=\"0\" y=\"0\" width=\"2400\" height=\"1600\"/>\n",
       "  </clipPath>\n",
       "</defs>\n",
       "<path clip-path=\"url(#clip180)\" d=\"\n",
       "M0 1600 L2400 1600 L2400 0 L0 0  Z\n",
       "  \" fill=\"#ffffff\" fill-rule=\"evenodd\" fill-opacity=\"1\"/>\n",
       "<defs>\n",
       "  <clipPath id=\"clip181\">\n",
       "    <rect x=\"480\" y=\"0\" width=\"1681\" height=\"1600\"/>\n",
       "  </clipPath>\n",
       "</defs>\n",
       "<path clip-path=\"url(#clip180)\" d=\"\n",
       "M156.598 1486.45 L2352.76 1486.45 L2352.76 47.2441 L156.598 47.2441  Z\n",
       "  \" fill=\"#ffffff\" fill-rule=\"evenodd\" fill-opacity=\"1\"/>\n",
       "<defs>\n",
       "  <clipPath id=\"clip182\">\n",
       "    <rect x=\"156\" y=\"47\" width=\"2197\" height=\"1440\"/>\n",
       "  </clipPath>\n",
       "</defs>\n",
       "<polyline clip-path=\"url(#clip182)\" style=\"stroke:#000000; stroke-linecap:butt; stroke-linejoin:round; stroke-width:2; stroke-opacity:0.1; fill:none\" points=\"\n",
       "  197.826,1486.45 197.826,47.2441 \n",
       "  \"/>\n",
       "<polyline clip-path=\"url(#clip182)\" style=\"stroke:#000000; stroke-linecap:butt; stroke-linejoin:round; stroke-width:2; stroke-opacity:0.1; fill:none\" points=\"\n",
       "  721.02,1486.45 721.02,47.2441 \n",
       "  \"/>\n",
       "<polyline clip-path=\"url(#clip182)\" style=\"stroke:#000000; stroke-linecap:butt; stroke-linejoin:round; stroke-width:2; stroke-opacity:0.1; fill:none\" points=\"\n",
       "  1244.21,1486.45 1244.21,47.2441 \n",
       "  \"/>\n",
       "<polyline clip-path=\"url(#clip182)\" style=\"stroke:#000000; stroke-linecap:butt; stroke-linejoin:round; stroke-width:2; stroke-opacity:0.1; fill:none\" points=\"\n",
       "  1767.41,1486.45 1767.41,47.2441 \n",
       "  \"/>\n",
       "<polyline clip-path=\"url(#clip182)\" style=\"stroke:#000000; stroke-linecap:butt; stroke-linejoin:round; stroke-width:2; stroke-opacity:0.1; fill:none\" points=\"\n",
       "  2290.6,1486.45 2290.6,47.2441 \n",
       "  \"/>\n",
       "<polyline clip-path=\"url(#clip180)\" style=\"stroke:#000000; stroke-linecap:butt; stroke-linejoin:round; stroke-width:4; stroke-opacity:1; fill:none\" points=\"\n",
       "  156.598,1486.45 2352.76,1486.45 \n",
       "  \"/>\n",
       "<polyline clip-path=\"url(#clip180)\" style=\"stroke:#000000; stroke-linecap:butt; stroke-linejoin:round; stroke-width:4; stroke-opacity:1; fill:none\" points=\"\n",
       "  197.826,1486.45 197.826,1469.18 \n",
       "  \"/>\n",
       "<polyline clip-path=\"url(#clip180)\" style=\"stroke:#000000; stroke-linecap:butt; stroke-linejoin:round; stroke-width:4; stroke-opacity:1; fill:none\" points=\"\n",
       "  721.02,1486.45 721.02,1469.18 \n",
       "  \"/>\n",
       "<polyline clip-path=\"url(#clip180)\" style=\"stroke:#000000; stroke-linecap:butt; stroke-linejoin:round; stroke-width:4; stroke-opacity:1; fill:none\" points=\"\n",
       "  1244.21,1486.45 1244.21,1469.18 \n",
       "  \"/>\n",
       "<polyline clip-path=\"url(#clip180)\" style=\"stroke:#000000; stroke-linecap:butt; stroke-linejoin:round; stroke-width:4; stroke-opacity:1; fill:none\" points=\"\n",
       "  1767.41,1486.45 1767.41,1469.18 \n",
       "  \"/>\n",
       "<polyline clip-path=\"url(#clip180)\" style=\"stroke:#000000; stroke-linecap:butt; stroke-linejoin:round; stroke-width:4; stroke-opacity:1; fill:none\" points=\"\n",
       "  2290.6,1486.45 2290.6,1469.18 \n",
       "  \"/>\n",
       "<path clip-path=\"url(#clip180)\" d=\"M197.826 1515.64 Q194.215 1515.64 192.386 1519.2 Q190.581 1522.75 190.581 1529.87 Q190.581 1536.98 192.386 1540.55 Q194.215 1544.09 197.826 1544.09 Q201.46 1544.09 203.266 1540.55 Q205.094 1536.98 205.094 1529.87 Q205.094 1522.75 203.266 1519.2 Q201.46 1515.64 197.826 1515.64 M197.826 1511.93 Q203.636 1511.93 206.692 1516.54 Q209.77 1521.12 209.77 1529.87 Q209.77 1538.6 206.692 1543.21 Q203.636 1547.79 197.826 1547.79 Q192.016 1547.79 188.937 1543.21 Q185.882 1538.6 185.882 1529.87 Q185.882 1521.12 188.937 1516.54 Q192.016 1511.93 197.826 1511.93 Z\" fill=\"#000000\" fill-rule=\"evenodd\" fill-opacity=\"1\" /><path clip-path=\"url(#clip180)\" d=\"M700.29 1543.18 L716.61 1543.18 L716.61 1547.12 L694.666 1547.12 L694.666 1543.18 Q697.328 1540.43 701.911 1535.8 Q706.517 1531.15 707.698 1529.81 Q709.943 1527.28 710.823 1525.55 Q711.726 1523.79 711.726 1522.1 Q711.726 1519.34 709.781 1517.61 Q707.86 1515.87 704.758 1515.87 Q702.559 1515.87 700.105 1516.63 Q697.675 1517.4 694.897 1518.95 L694.897 1514.23 Q697.721 1513.09 700.175 1512.51 Q702.628 1511.93 704.665 1511.93 Q710.036 1511.93 713.23 1514.62 Q716.425 1517.31 716.425 1521.8 Q716.425 1523.93 715.614 1525.85 Q714.827 1527.74 712.721 1530.34 Q712.142 1531.01 709.04 1534.23 Q705.939 1537.42 700.29 1543.18 Z\" fill=\"#000000\" fill-rule=\"evenodd\" fill-opacity=\"1\" /><path clip-path=\"url(#clip180)\" d=\"M726.471 1512.56 L744.827 1512.56 L744.827 1516.5 L730.753 1516.5 L730.753 1524.97 Q731.772 1524.62 732.79 1524.46 Q733.809 1524.27 734.827 1524.27 Q740.614 1524.27 743.994 1527.44 Q747.374 1530.62 747.374 1536.03 Q747.374 1541.61 743.901 1544.71 Q740.429 1547.79 734.11 1547.79 Q731.934 1547.79 729.665 1547.42 Q727.42 1547.05 725.013 1546.31 L725.013 1541.61 Q727.096 1542.74 729.318 1543.3 Q731.54 1543.86 734.017 1543.86 Q738.022 1543.86 740.36 1541.75 Q742.698 1539.64 742.698 1536.03 Q742.698 1532.42 740.36 1530.31 Q738.022 1528.21 734.017 1528.21 Q732.142 1528.21 730.267 1528.62 Q728.415 1529.04 726.471 1529.92 L726.471 1512.56 Z\" fill=\"#000000\" fill-rule=\"evenodd\" fill-opacity=\"1\" /><path clip-path=\"url(#clip180)\" d=\"M1218.91 1512.56 L1237.27 1512.56 L1237.27 1516.5 L1223.19 1516.5 L1223.19 1524.97 Q1224.21 1524.62 1225.23 1524.46 Q1226.25 1524.27 1227.27 1524.27 Q1233.06 1524.27 1236.44 1527.44 Q1239.82 1530.62 1239.82 1536.03 Q1239.82 1541.61 1236.34 1544.71 Q1232.87 1547.79 1226.55 1547.79 Q1224.38 1547.79 1222.11 1547.42 Q1219.86 1547.05 1217.45 1546.31 L1217.45 1541.61 Q1219.54 1542.74 1221.76 1543.3 Q1223.98 1543.86 1226.46 1543.86 Q1230.46 1543.86 1232.8 1541.75 Q1235.14 1539.64 1235.14 1536.03 Q1235.14 1532.42 1232.8 1530.31 Q1230.46 1528.21 1226.46 1528.21 Q1224.58 1528.21 1222.71 1528.62 Q1220.86 1529.04 1218.91 1529.92 L1218.91 1512.56 Z\" fill=\"#000000\" fill-rule=\"evenodd\" fill-opacity=\"1\" /><path clip-path=\"url(#clip180)\" d=\"M1259.03 1515.64 Q1255.42 1515.64 1253.59 1519.2 Q1251.78 1522.75 1251.78 1529.87 Q1251.78 1536.98 1253.59 1540.55 Q1255.42 1544.09 1259.03 1544.09 Q1262.66 1544.09 1264.47 1540.55 Q1266.3 1536.98 1266.3 1529.87 Q1266.3 1522.75 1264.47 1519.2 Q1262.66 1515.64 1259.03 1515.64 M1259.03 1511.93 Q1264.84 1511.93 1267.89 1516.54 Q1270.97 1521.12 1270.97 1529.87 Q1270.97 1538.6 1267.89 1543.21 Q1264.84 1547.79 1259.03 1547.79 Q1253.22 1547.79 1250.14 1543.21 Q1247.08 1538.6 1247.08 1529.87 Q1247.08 1521.12 1250.14 1516.54 Q1253.22 1511.93 1259.03 1511.93 Z\" fill=\"#000000\" fill-rule=\"evenodd\" fill-opacity=\"1\" /><path clip-path=\"url(#clip180)\" d=\"M1741.26 1512.56 L1763.48 1512.56 L1763.48 1514.55 L1750.94 1547.12 L1746.05 1547.12 L1757.86 1516.5 L1741.26 1516.5 L1741.26 1512.56 Z\" fill=\"#000000\" fill-rule=\"evenodd\" fill-opacity=\"1\" /><path clip-path=\"url(#clip180)\" d=\"M1772.65 1512.56 L1791.01 1512.56 L1791.01 1516.5 L1776.93 1516.5 L1776.93 1524.97 Q1777.95 1524.62 1778.97 1524.46 Q1779.99 1524.27 1781.01 1524.27 Q1786.79 1524.27 1790.17 1527.44 Q1793.55 1530.62 1793.55 1536.03 Q1793.55 1541.61 1790.08 1544.71 Q1786.61 1547.79 1780.29 1547.79 Q1778.11 1547.79 1775.84 1547.42 Q1773.6 1547.05 1771.19 1546.31 L1771.19 1541.61 Q1773.27 1542.74 1775.5 1543.3 Q1777.72 1543.86 1780.2 1543.86 Q1784.2 1543.86 1786.54 1541.75 Q1788.88 1539.64 1788.88 1536.03 Q1788.88 1532.42 1786.54 1530.31 Q1784.2 1528.21 1780.2 1528.21 Q1778.32 1528.21 1776.45 1528.62 Q1774.59 1529.04 1772.65 1529.92 L1772.65 1512.56 Z\" fill=\"#000000\" fill-rule=\"evenodd\" fill-opacity=\"1\" /><path clip-path=\"url(#clip180)\" d=\"M2250.21 1543.18 L2257.85 1543.18 L2257.85 1516.82 L2249.54 1518.49 L2249.54 1514.23 L2257.8 1512.56 L2262.48 1512.56 L2262.48 1543.18 L2270.11 1543.18 L2270.11 1547.12 L2250.21 1547.12 L2250.21 1543.18 Z\" fill=\"#000000\" fill-rule=\"evenodd\" fill-opacity=\"1\" /><path clip-path=\"url(#clip180)\" d=\"M2289.56 1515.64 Q2285.95 1515.64 2284.12 1519.2 Q2282.31 1522.75 2282.31 1529.87 Q2282.31 1536.98 2284.12 1540.55 Q2285.95 1544.09 2289.56 1544.09 Q2293.19 1544.09 2295 1540.55 Q2296.83 1536.98 2296.83 1529.87 Q2296.83 1522.75 2295 1519.2 Q2293.19 1515.64 2289.56 1515.64 M2289.56 1511.93 Q2295.37 1511.93 2298.42 1516.54 Q2301.5 1521.12 2301.5 1529.87 Q2301.5 1538.6 2298.42 1543.21 Q2295.37 1547.79 2289.56 1547.79 Q2283.75 1547.79 2280.67 1543.21 Q2277.61 1538.6 2277.61 1529.87 Q2277.61 1521.12 2280.67 1516.54 Q2283.75 1511.93 2289.56 1511.93 Z\" fill=\"#000000\" fill-rule=\"evenodd\" fill-opacity=\"1\" /><path clip-path=\"url(#clip180)\" d=\"M2319.72 1515.64 Q2316.11 1515.64 2314.28 1519.2 Q2312.48 1522.75 2312.48 1529.87 Q2312.48 1536.98 2314.28 1540.55 Q2316.11 1544.09 2319.72 1544.09 Q2323.35 1544.09 2325.16 1540.55 Q2326.99 1536.98 2326.99 1529.87 Q2326.99 1522.75 2325.16 1519.2 Q2323.35 1515.64 2319.72 1515.64 M2319.72 1511.93 Q2325.53 1511.93 2328.59 1516.54 Q2331.67 1521.12 2331.67 1529.87 Q2331.67 1538.6 2328.59 1543.21 Q2325.53 1547.79 2319.72 1547.79 Q2313.91 1547.79 2310.83 1543.21 Q2307.78 1538.6 2307.78 1529.87 Q2307.78 1521.12 2310.83 1516.54 Q2313.91 1511.93 2319.72 1511.93 Z\" fill=\"#000000\" fill-rule=\"evenodd\" fill-opacity=\"1\" /><polyline clip-path=\"url(#clip182)\" style=\"stroke:#000000; stroke-linecap:butt; stroke-linejoin:round; stroke-width:2; stroke-opacity:0.1; fill:none\" points=\"\n",
       "  156.598,1272.91 2352.76,1272.91 \n",
       "  \"/>\n",
       "<polyline clip-path=\"url(#clip182)\" style=\"stroke:#000000; stroke-linecap:butt; stroke-linejoin:round; stroke-width:2; stroke-opacity:0.1; fill:none\" points=\"\n",
       "  156.598,1001.36 2352.76,1001.36 \n",
       "  \"/>\n",
       "<polyline clip-path=\"url(#clip182)\" style=\"stroke:#000000; stroke-linecap:butt; stroke-linejoin:round; stroke-width:2; stroke-opacity:0.1; fill:none\" points=\"\n",
       "  156.598,729.817 2352.76,729.817 \n",
       "  \"/>\n",
       "<polyline clip-path=\"url(#clip182)\" style=\"stroke:#000000; stroke-linecap:butt; stroke-linejoin:round; stroke-width:2; stroke-opacity:0.1; fill:none\" points=\"\n",
       "  156.598,458.269 2352.76,458.269 \n",
       "  \"/>\n",
       "<polyline clip-path=\"url(#clip182)\" style=\"stroke:#000000; stroke-linecap:butt; stroke-linejoin:round; stroke-width:2; stroke-opacity:0.1; fill:none\" points=\"\n",
       "  156.598,186.721 2352.76,186.721 \n",
       "  \"/>\n",
       "<polyline clip-path=\"url(#clip180)\" style=\"stroke:#000000; stroke-linecap:butt; stroke-linejoin:round; stroke-width:4; stroke-opacity:1; fill:none\" points=\"\n",
       "  156.598,1486.45 156.598,47.2441 \n",
       "  \"/>\n",
       "<polyline clip-path=\"url(#clip180)\" style=\"stroke:#000000; stroke-linecap:butt; stroke-linejoin:round; stroke-width:4; stroke-opacity:1; fill:none\" points=\"\n",
       "  156.598,1272.91 182.952,1272.91 \n",
       "  \"/>\n",
       "<polyline clip-path=\"url(#clip180)\" style=\"stroke:#000000; stroke-linecap:butt; stroke-linejoin:round; stroke-width:4; stroke-opacity:1; fill:none\" points=\"\n",
       "  156.598,1001.36 182.952,1001.36 \n",
       "  \"/>\n",
       "<polyline clip-path=\"url(#clip180)\" style=\"stroke:#000000; stroke-linecap:butt; stroke-linejoin:round; stroke-width:4; stroke-opacity:1; fill:none\" points=\"\n",
       "  156.598,729.817 182.952,729.817 \n",
       "  \"/>\n",
       "<polyline clip-path=\"url(#clip180)\" style=\"stroke:#000000; stroke-linecap:butt; stroke-linejoin:round; stroke-width:4; stroke-opacity:1; fill:none\" points=\"\n",
       "  156.598,458.269 182.952,458.269 \n",
       "  \"/>\n",
       "<polyline clip-path=\"url(#clip180)\" style=\"stroke:#000000; stroke-linecap:butt; stroke-linejoin:round; stroke-width:4; stroke-opacity:1; fill:none\" points=\"\n",
       "  156.598,186.721 182.952,186.721 \n",
       "  \"/>\n",
       "<path clip-path=\"url(#clip180)\" d=\"M62.9365 1258.71 Q59.3254 1258.71 57.4967 1262.28 Q55.6912 1265.82 55.6912 1272.95 Q55.6912 1280.05 57.4967 1283.62 Q59.3254 1287.16 62.9365 1287.16 Q66.5707 1287.16 68.3763 1283.62 Q70.205 1280.05 70.205 1272.95 Q70.205 1265.82 68.3763 1262.28 Q66.5707 1258.71 62.9365 1258.71 M62.9365 1255.01 Q68.7467 1255.01 71.8022 1259.61 Q74.8809 1264.2 74.8809 1272.95 Q74.8809 1281.67 71.8022 1286.28 Q68.7467 1290.86 62.9365 1290.86 Q57.1264 1290.86 54.0477 1286.28 Q50.9921 1281.67 50.9921 1272.95 Q50.9921 1264.2 54.0477 1259.61 Q57.1264 1255.01 62.9365 1255.01 Z\" fill=\"#000000\" fill-rule=\"evenodd\" fill-opacity=\"1\" /><path clip-path=\"url(#clip180)\" d=\"M83.0984 1284.31 L87.9827 1284.31 L87.9827 1290.19 L83.0984 1290.19 L83.0984 1284.31 Z\" fill=\"#000000\" fill-rule=\"evenodd\" fill-opacity=\"1\" /><path clip-path=\"url(#clip180)\" d=\"M111.015 1259.71 L99.2095 1278.16 L111.015 1278.16 L111.015 1259.71 M109.788 1255.63 L115.668 1255.63 L115.668 1278.16 L120.598 1278.16 L120.598 1282.04 L115.668 1282.04 L115.668 1290.19 L111.015 1290.19 L111.015 1282.04 L95.4132 1282.04 L95.4132 1277.53 L109.788 1255.63 Z\" fill=\"#000000\" fill-rule=\"evenodd\" fill-opacity=\"1\" /><path clip-path=\"url(#clip180)\" d=\"M63.2606 987.163 Q59.6495 987.163 57.8208 990.728 Q56.0152 994.27 56.0152 1001.4 Q56.0152 1008.51 57.8208 1012.07 Q59.6495 1015.61 63.2606 1015.61 Q66.8948 1015.61 68.7004 1012.07 Q70.5291 1008.51 70.5291 1001.4 Q70.5291 994.27 68.7004 990.728 Q66.8948 987.163 63.2606 987.163 M63.2606 983.46 Q69.0707 983.46 72.1263 988.066 Q75.205 992.649 75.205 1001.4 Q75.205 1010.13 72.1263 1014.73 Q69.0707 1019.32 63.2606 1019.32 Q57.4504 1019.32 54.3717 1014.73 Q51.3162 1010.13 51.3162 1001.4 Q51.3162 992.649 54.3717 988.066 Q57.4504 983.46 63.2606 983.46 Z\" fill=\"#000000\" fill-rule=\"evenodd\" fill-opacity=\"1\" /><path clip-path=\"url(#clip180)\" d=\"M83.4225 1012.77 L88.3067 1012.77 L88.3067 1018.64 L83.4225 1018.64 L83.4225 1012.77 Z\" fill=\"#000000\" fill-rule=\"evenodd\" fill-opacity=\"1\" /><path clip-path=\"url(#clip180)\" d=\"M109.071 999.501 Q105.922 999.501 104.071 1001.65 Q102.242 1003.81 102.242 1007.56 Q102.242 1011.28 104.071 1013.46 Q105.922 1015.61 109.071 1015.61 Q112.219 1015.61 114.047 1013.46 Q115.899 1011.28 115.899 1007.56 Q115.899 1003.81 114.047 1001.65 Q112.219 999.501 109.071 999.501 M118.353 984.848 L118.353 989.108 Q116.594 988.274 114.788 987.835 Q113.006 987.395 111.246 987.395 Q106.617 987.395 104.163 990.52 Q101.733 993.645 101.385 999.964 Q102.751 997.95 104.811 996.885 Q106.871 995.798 109.348 995.798 Q114.557 995.798 117.566 998.969 Q120.598 1002.12 120.598 1007.56 Q120.598 1012.88 117.45 1016.1 Q114.302 1019.32 109.071 1019.32 Q103.075 1019.32 99.9039 1014.73 Q96.7326 1010.13 96.7326 1001.4 Q96.7326 993.205 100.621 988.344 Q104.51 983.46 111.061 983.46 Q112.82 983.46 114.603 983.807 Q116.408 984.154 118.353 984.848 Z\" fill=\"#000000\" fill-rule=\"evenodd\" fill-opacity=\"1\" /><path clip-path=\"url(#clip180)\" d=\"M63.5152 715.615 Q59.9041 715.615 58.0754 719.18 Q56.2699 722.722 56.2699 729.851 Q56.2699 736.958 58.0754 740.523 Q59.9041 744.064 63.5152 744.064 Q67.1494 744.064 68.955 740.523 Q70.7837 736.958 70.7837 729.851 Q70.7837 722.722 68.955 719.18 Q67.1494 715.615 63.5152 715.615 M63.5152 711.912 Q69.3254 711.912 72.3809 716.518 Q75.4596 721.101 75.4596 729.851 Q75.4596 738.578 72.3809 743.185 Q69.3254 747.768 63.5152 747.768 Q57.7051 747.768 54.6264 743.185 Q51.5708 738.578 51.5708 729.851 Q51.5708 721.101 54.6264 716.518 Q57.7051 711.912 63.5152 711.912 Z\" fill=\"#000000\" fill-rule=\"evenodd\" fill-opacity=\"1\" /><path clip-path=\"url(#clip180)\" d=\"M83.6771 741.217 L88.5614 741.217 L88.5614 747.097 L83.6771 747.097 L83.6771 741.217 Z\" fill=\"#000000\" fill-rule=\"evenodd\" fill-opacity=\"1\" /><path clip-path=\"url(#clip180)\" d=\"M108.746 730.685 Q105.413 730.685 103.492 732.467 Q101.594 734.25 101.594 737.375 Q101.594 740.5 103.492 742.282 Q105.413 744.064 108.746 744.064 Q112.08 744.064 114.001 742.282 Q115.922 740.476 115.922 737.375 Q115.922 734.25 114.001 732.467 Q112.103 730.685 108.746 730.685 M104.071 728.694 Q101.061 727.953 99.3715 725.893 Q97.7048 723.833 97.7048 720.87 Q97.7048 716.727 100.645 714.319 Q103.608 711.912 108.746 711.912 Q113.908 711.912 116.848 714.319 Q119.788 716.727 119.788 720.87 Q119.788 723.833 118.098 725.893 Q116.432 727.953 113.445 728.694 Q116.825 729.481 118.7 731.773 Q120.598 734.064 120.598 737.375 Q120.598 742.398 117.52 745.083 Q114.464 747.768 108.746 747.768 Q103.029 747.768 99.9502 745.083 Q96.8947 742.398 96.8947 737.375 Q96.8947 734.064 98.7928 731.773 Q100.691 729.481 104.071 728.694 M102.358 721.31 Q102.358 723.995 104.024 725.5 Q105.714 727.004 108.746 727.004 Q111.756 727.004 113.445 725.5 Q115.158 723.995 115.158 721.31 Q115.158 718.625 113.445 717.12 Q111.756 715.615 108.746 715.615 Q105.714 715.615 104.024 717.12 Q102.358 718.625 102.358 721.31 Z\" fill=\"#000000\" fill-rule=\"evenodd\" fill-opacity=\"1\" /><path clip-path=\"url(#clip180)\" d=\"M54.2328 471.614 L61.8717 471.614 L61.8717 445.248 L53.5616 446.915 L53.5616 442.656 L61.8254 440.989 L66.5013 440.989 L66.5013 471.614 L74.1402 471.614 L74.1402 475.549 L54.2328 475.549 L54.2328 471.614 Z\" fill=\"#000000\" fill-rule=\"evenodd\" fill-opacity=\"1\" /><path clip-path=\"url(#clip180)\" d=\"M83.5845 469.669 L88.4688 469.669 L88.4688 475.549 L83.5845 475.549 L83.5845 469.669 Z\" fill=\"#000000\" fill-rule=\"evenodd\" fill-opacity=\"1\" /><path clip-path=\"url(#clip180)\" d=\"M108.654 444.068 Q105.043 444.068 103.214 447.632 Q101.409 451.174 101.409 458.304 Q101.409 465.41 103.214 468.975 Q105.043 472.516 108.654 472.516 Q112.288 472.516 114.094 468.975 Q115.922 465.41 115.922 458.304 Q115.922 451.174 114.094 447.632 Q112.288 444.068 108.654 444.068 M108.654 440.364 Q114.464 440.364 117.52 444.97 Q120.598 449.554 120.598 458.304 Q120.598 467.03 117.52 471.637 Q114.464 476.22 108.654 476.22 Q102.844 476.22 99.765 471.637 Q96.7095 467.03 96.7095 458.304 Q96.7095 449.554 99.765 444.97 Q102.844 440.364 108.654 440.364 Z\" fill=\"#000000\" fill-rule=\"evenodd\" fill-opacity=\"1\" /><path clip-path=\"url(#clip180)\" d=\"M55.8301 200.066 L63.4689 200.066 L63.4689 173.7 L55.1588 175.367 L55.1588 171.108 L63.4226 169.441 L68.0985 169.441 L68.0985 200.066 L75.7374 200.066 L75.7374 204.001 L55.8301 204.001 L55.8301 200.066 Z\" fill=\"#000000\" fill-rule=\"evenodd\" fill-opacity=\"1\" /><path clip-path=\"url(#clip180)\" d=\"M85.1818 198.121 L90.066 198.121 L90.066 204.001 L85.1818 204.001 L85.1818 198.121 Z\" fill=\"#000000\" fill-rule=\"evenodd\" fill-opacity=\"1\" /><path clip-path=\"url(#clip180)\" d=\"M104.279 200.066 L120.598 200.066 L120.598 204.001 L98.6539 204.001 L98.6539 200.066 Q101.316 197.311 105.899 192.682 Q110.506 188.029 111.686 186.686 Q113.932 184.163 114.811 182.427 Q115.714 180.668 115.714 178.978 Q115.714 176.223 113.77 174.487 Q111.848 172.751 108.746 172.751 Q106.547 172.751 104.094 173.515 Q101.663 174.279 98.8854 175.83 L98.8854 171.108 Q101.709 169.973 104.163 169.395 Q106.617 168.816 108.654 168.816 Q114.024 168.816 117.219 171.501 Q120.413 174.186 120.413 178.677 Q120.413 180.807 119.603 182.728 Q118.816 184.626 116.709 187.219 Q116.131 187.89 113.029 191.108 Q109.927 194.302 104.279 200.066 Z\" fill=\"#000000\" fill-rule=\"evenodd\" fill-opacity=\"1\" /><polyline clip-path=\"url(#clip182)\" style=\"stroke:#009af9; stroke-linecap:butt; stroke-linejoin:round; stroke-width:4; stroke-opacity:1; fill:none\" points=\"\n",
       "  218.754,1445.72 239.681,1445.72 260.609,1445.72 281.537,1445.72 302.465,1445.72 323.392,1445.72 344.32,1445.72 365.248,1445.72 386.176,1445.72 407.103,1445.72 \n",
       "  428.031,1445.72 448.959,1445.72 469.887,1445.72 490.814,1445.72 511.742,1445.72 532.67,1445.72 553.598,1445.72 574.525,1445.72 595.453,1445.72 616.381,1445.72 \n",
       "  637.309,1445.72 658.236,1445.72 679.164,1445.72 700.092,1445.72 721.02,1445.72 741.947,1445.72 762.875,1445.72 783.803,1445.72 804.731,1445.72 825.658,1445.72 \n",
       "  846.586,1445.72 867.514,1445.72 888.442,1445.72 909.369,1445.72 930.297,1445.72 951.225,1445.72 972.152,1445.72 993.08,1445.72 1014.01,1445.72 1034.94,1445.72 \n",
       "  1055.86,1445.72 1076.79,1445.72 1097.72,1445.72 1118.65,1445.72 1139.57,1445.72 1160.5,1445.72 1181.43,1445.72 1202.36,1445.72 1223.29,1445.72 1244.21,1445.72 \n",
       "  1265.14,1445.72 1286.07,1445.72 1307,1445.72 1327.92,1445.72 1348.85,1445.72 1369.78,1445.72 1390.71,1445.72 1411.64,1445.72 1432.56,1445.72 1453.49,1445.72 \n",
       "  1474.42,1445.72 1495.35,1445.72 1516.27,1445.72 1537.2,1445.72 1558.13,1445.72 1579.06,1445.72 1599.98,1445.72 1620.91,1445.72 1641.84,1445.72 1662.77,1445.72 \n",
       "  1683.7,1445.72 1704.62,1445.72 1725.55,1445.72 1746.48,1445.72 1767.41,1445.72 1788.33,1445.72 1809.26,1445.72 1830.19,1445.72 1851.12,1445.72 1872.05,1445.72 \n",
       "  1892.97,1445.72 1913.9,1445.72 1934.83,1445.72 1955.76,1445.72 1976.68,1445.72 1997.61,1445.72 2018.54,1445.72 2039.47,1445.72 2060.4,1445.72 2081.32,1445.72 \n",
       "  2102.25,1445.72 2123.18,1445.72 2144.11,1445.72 2165.03,1445.72 2185.96,1445.72 2206.89,1445.72 2227.82,1445.72 2248.75,1445.72 2269.67,1445.72 2290.6,1445.72 \n",
       "  \n",
       "  \"/>\n",
       "<path clip-path=\"url(#clip180)\" d=\"\n",
       "M1983.1 216.178 L2279.55 216.178 L2279.55 95.2176 L1983.1 95.2176  Z\n",
       "  \" fill=\"#ffffff\" fill-rule=\"evenodd\" fill-opacity=\"1\"/>\n",
       "<polyline clip-path=\"url(#clip180)\" style=\"stroke:#000000; stroke-linecap:butt; stroke-linejoin:round; stroke-width:4; stroke-opacity:1; fill:none\" points=\"\n",
       "  1983.1,216.178 2279.55,216.178 2279.55,95.2176 1983.1,95.2176 1983.1,216.178 \n",
       "  \"/>\n",
       "<polyline clip-path=\"url(#clip180)\" style=\"stroke:#009af9; stroke-linecap:butt; stroke-linejoin:round; stroke-width:4; stroke-opacity:1; fill:none\" points=\"\n",
       "  2007.5,155.698 2153.92,155.698 \n",
       "  \"/>\n",
       "<path clip-path=\"url(#clip180)\" d=\"M2192.16 175.385 Q2190.35 180.015 2188.64 181.427 Q2186.93 182.839 2184.06 182.839 L2180.65 182.839 L2180.65 179.274 L2183.15 179.274 Q2184.91 179.274 2185.89 178.44 Q2186.86 177.607 2188.04 174.505 L2188.8 172.561 L2178.32 147.052 L2182.83 147.052 L2190.93 167.329 L2199.03 147.052 L2203.55 147.052 L2192.16 175.385 Z\" fill=\"#000000\" fill-rule=\"evenodd\" fill-opacity=\"1\" /><path clip-path=\"url(#clip180)\" d=\"M2210.84 169.042 L2218.48 169.042 L2218.48 142.677 L2210.17 144.343 L2210.17 140.084 L2218.43 138.418 L2223.11 138.418 L2223.11 169.042 L2230.75 169.042 L2230.75 172.978 L2210.84 172.978 L2210.84 169.042 Z\" fill=\"#000000\" fill-rule=\"evenodd\" fill-opacity=\"1\" /></svg>\n"
      ]
     },
     "execution_count": 55,
     "metadata": {},
     "output_type": "execute_result"
    }
   ],
   "source": [
    "plot(trainingLoss)"
   ]
  },
  {
   "cell_type": "markdown",
   "metadata": {},
   "source": [
    "### 1.7 Testing the QNN"
   ]
  },
  {
   "cell_type": "code",
   "execution_count": 61,
   "metadata": {},
   "outputs": [
    {
     "name": "stdout",
     "output_type": "stream",
     "text": [
      "Feature:0100| QNN predicted parity: 1 | Actual Parity: 1\n",
      "---------------------------------------------------\n",
      "Feature:1100| QNN predicted parity: 0 | Actual Parity: 0\n",
      "---------------------------------------------------\n",
      "Feature:0110| QNN predicted parity: 1 | Actual Parity: 0\n",
      "---------------------------------------------------\n",
      "Feature:1110| QNN predicted parity: 0 | Actual Parity: 1\n",
      "---------------------------------------------------\n",
      "Feature:0001| QNN predicted parity: 1 | Actual Parity: 1\n",
      "---------------------------------------------------\n",
      "Feature:1001| QNN predicted parity: 0 | Actual Parity: 0\n",
      "---------------------------------------------------\n",
      "Feature:0101| QNN predicted parity: 0 | Actual Parity: 0\n",
      "---------------------------------------------------\n",
      "Feature:1101| QNN predicted parity: 1 | Actual Parity: 1\n",
      "---------------------------------------------------\n",
      "Feature:1011| QNN predicted parity: 0 | Actual Parity: 1\n",
      "---------------------------------------------------\n",
      "Feature:0111| QNN predicted parity: 1 | Actual Parity: 1\n",
      "---------------------------------------------------\n",
      "Feature:1111| QNN predicted parity: 0 | Actual Parity: 0\n",
      "---------------------------------------------------\n"
     ]
    },
    {
     "data": {
      "text/plain": [
       "0.5"
      ]
     },
     "execution_count": 61,
     "metadata": {},
     "output_type": "execute_result"
    }
   ],
   "source": [
    "for (ind, data) in enumerate(trainSet)\n",
    "    prediction = predict(data, W)\n",
    "    println(\"Feature:\", data, \"| QNN predicted parity: \", prediction, \" | \", \"Actual Parity: \", parity(data))\n",
    "    println(\"---------------------------------------------------\")\n",
    "end\n",
    "cost(W, trainSet, testLabel)"
   ]
  },
  {
   "cell_type": "markdown",
   "metadata": {},
   "source": [
    "## 2. References"
   ]
  },
  {
   "cell_type": "markdown",
   "metadata": {},
   "source": [
    "\\[1\\] [Using Quantum Machine Learning with Amazon Braket to Create a Binary Classifier](https://aws.amazon.com/blogs/quantum-computing/aioi-using-quantum-machine-learning-with-amazon-braket-to-create-a-binary-classifier/)\n",
    "\n",
    "\\[2\\] [Quantum gradients with backpropagation](https://pennylane.ai/qml/demos/tutorial_backprop.html)\n",
    "\n",
    "\\[3\\] [Training](https://fluxml.ai/Flux.jl/stable/training/training/)\n",
    "\n",
    "\\[4\\] [Quantum Computing Learning Series 10: Training a Quantum Circuit](https://broadcast.amazon.com/videos/307498)\n",
    "\n",
    "\\[5\\] [Automatic Differentiation of Quantum Circuits](https://www.youtube.com/watch?v=McgBeSVIGus)\n",
    "\n",
    "\\[6\\] [Introduction to Quantum Machine Learning with PennyLane](https://www.youtube.com/playlist?list=PL_hJxz_HrXxsQNJHWp10up8x-hwd5uwr0)"
   ]
  }
 ],
 "metadata": {
  "kernelspec": {
   "display_name": "Julia 1.6.1",
   "language": "julia",
   "name": "julia-1.6"
  },
  "language_info": {
   "file_extension": ".jl",
   "mimetype": "application/julia",
   "name": "julia",
   "version": "1.6.2"
  }
 },
 "nbformat": 4,
 "nbformat_minor": 5
}
